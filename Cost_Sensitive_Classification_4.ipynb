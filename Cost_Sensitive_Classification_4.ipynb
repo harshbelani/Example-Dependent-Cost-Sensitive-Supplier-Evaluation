{
  "nbformat": 4,
  "nbformat_minor": 0,
  "metadata": {
    "colab": {
      "name": "Cost Sensitive Classification -4",
      "provenance": [],
      "collapsed_sections": [],
      "toc_visible": true,
      "authorship_tag": "ABX9TyNYz/YjsoVmKmB03I5VFRzK",
      "include_colab_link": true
    },
    "kernelspec": {
      "name": "python3",
      "display_name": "Python 3"
    }
  },
  "cells": [
    {
      "cell_type": "markdown",
      "metadata": {
        "id": "view-in-github",
        "colab_type": "text"
      },
      "source": [
        "<a href=\"https://colab.research.google.com/github/harshbelani/Example-Dependent-Cost-Sensitive-Supplier-Evaluation/blob/master/Cost_Sensitive_Classification_4.ipynb\" target=\"_parent\"><img src=\"https://colab.research.google.com/assets/colab-badge.svg\" alt=\"Open In Colab\"/></a>"
      ]
    },
    {
      "cell_type": "markdown",
      "metadata": {
        "id": "2xsoKyvkFdDo",
        "colab_type": "text"
      },
      "source": [
        "#20th August"
      ]
    },
    {
      "cell_type": "code",
      "metadata": {
        "id": "Y3dqkxCVFbLl",
        "colab_type": "code",
        "colab": {}
      },
      "source": [
        "import numpy as np\n",
        "import pandas as pd"
      ],
      "execution_count": null,
      "outputs": []
    },
    {
      "cell_type": "code",
      "metadata": {
        "id": "7MN1ec7xFmkz",
        "colab_type": "code",
        "colab": {}
      },
      "source": [
        "data = pd.read_csv(\"online_shoppers_intention.csv\")"
      ],
      "execution_count": null,
      "outputs": []
    },
    {
      "cell_type": "code",
      "metadata": {
        "id": "OnVVe9UvFoQy",
        "colab_type": "code",
        "colab": {
          "base_uri": "https://localhost:8080/",
          "height": 214
        },
        "outputId": "22be8410-9985-488b-d1dc-0752c2b01f2e"
      },
      "source": [
        "data.head()"
      ],
      "execution_count": null,
      "outputs": [
        {
          "output_type": "execute_result",
          "data": {
            "text/html": [
              "<div>\n",
              "<style scoped>\n",
              "    .dataframe tbody tr th:only-of-type {\n",
              "        vertical-align: middle;\n",
              "    }\n",
              "\n",
              "    .dataframe tbody tr th {\n",
              "        vertical-align: top;\n",
              "    }\n",
              "\n",
              "    .dataframe thead th {\n",
              "        text-align: right;\n",
              "    }\n",
              "</style>\n",
              "<table border=\"1\" class=\"dataframe\">\n",
              "  <thead>\n",
              "    <tr style=\"text-align: right;\">\n",
              "      <th></th>\n",
              "      <th>Administrative</th>\n",
              "      <th>Administrative_Duration</th>\n",
              "      <th>Informational</th>\n",
              "      <th>Informational_Duration</th>\n",
              "      <th>ProductRelated</th>\n",
              "      <th>ProductRelated_Duration</th>\n",
              "      <th>BounceRates</th>\n",
              "      <th>ExitRates</th>\n",
              "      <th>PageValues</th>\n",
              "      <th>SpecialDay</th>\n",
              "      <th>Month</th>\n",
              "      <th>OperatingSystems</th>\n",
              "      <th>Browser</th>\n",
              "      <th>Region</th>\n",
              "      <th>TrafficType</th>\n",
              "      <th>VisitorType</th>\n",
              "      <th>Weekend</th>\n",
              "      <th>Revenue</th>\n",
              "      <th>Cost_FN</th>\n",
              "      <th>Cost_FP</th>\n",
              "    </tr>\n",
              "  </thead>\n",
              "  <tbody>\n",
              "    <tr>\n",
              "      <th>0</th>\n",
              "      <td>0</td>\n",
              "      <td>0.0</td>\n",
              "      <td>0</td>\n",
              "      <td>0.0</td>\n",
              "      <td>1</td>\n",
              "      <td>0.000000</td>\n",
              "      <td>0.20</td>\n",
              "      <td>0.20</td>\n",
              "      <td>0.0</td>\n",
              "      <td>0.0</td>\n",
              "      <td>Feb</td>\n",
              "      <td>1</td>\n",
              "      <td>1</td>\n",
              "      <td>1</td>\n",
              "      <td>1</td>\n",
              "      <td>Returning_Visitor</td>\n",
              "      <td>False</td>\n",
              "      <td>False</td>\n",
              "      <td>28.834902</td>\n",
              "      <td>85.941229</td>\n",
              "    </tr>\n",
              "    <tr>\n",
              "      <th>1</th>\n",
              "      <td>0</td>\n",
              "      <td>0.0</td>\n",
              "      <td>0</td>\n",
              "      <td>0.0</td>\n",
              "      <td>2</td>\n",
              "      <td>64.000000</td>\n",
              "      <td>0.00</td>\n",
              "      <td>0.10</td>\n",
              "      <td>0.0</td>\n",
              "      <td>0.0</td>\n",
              "      <td>Feb</td>\n",
              "      <td>2</td>\n",
              "      <td>2</td>\n",
              "      <td>1</td>\n",
              "      <td>2</td>\n",
              "      <td>Returning_Visitor</td>\n",
              "      <td>False</td>\n",
              "      <td>False</td>\n",
              "      <td>85.234945</td>\n",
              "      <td>19.559320</td>\n",
              "    </tr>\n",
              "    <tr>\n",
              "      <th>2</th>\n",
              "      <td>0</td>\n",
              "      <td>0.0</td>\n",
              "      <td>0</td>\n",
              "      <td>0.0</td>\n",
              "      <td>1</td>\n",
              "      <td>0.000000</td>\n",
              "      <td>0.20</td>\n",
              "      <td>0.20</td>\n",
              "      <td>0.0</td>\n",
              "      <td>0.0</td>\n",
              "      <td>Feb</td>\n",
              "      <td>4</td>\n",
              "      <td>1</td>\n",
              "      <td>9</td>\n",
              "      <td>3</td>\n",
              "      <td>Returning_Visitor</td>\n",
              "      <td>False</td>\n",
              "      <td>False</td>\n",
              "      <td>98.685411</td>\n",
              "      <td>17.855017</td>\n",
              "    </tr>\n",
              "    <tr>\n",
              "      <th>3</th>\n",
              "      <td>0</td>\n",
              "      <td>0.0</td>\n",
              "      <td>0</td>\n",
              "      <td>0.0</td>\n",
              "      <td>2</td>\n",
              "      <td>2.666667</td>\n",
              "      <td>0.05</td>\n",
              "      <td>0.14</td>\n",
              "      <td>0.0</td>\n",
              "      <td>0.0</td>\n",
              "      <td>Feb</td>\n",
              "      <td>3</td>\n",
              "      <td>2</td>\n",
              "      <td>2</td>\n",
              "      <td>4</td>\n",
              "      <td>Returning_Visitor</td>\n",
              "      <td>False</td>\n",
              "      <td>False</td>\n",
              "      <td>38.032143</td>\n",
              "      <td>68.532294</td>\n",
              "    </tr>\n",
              "    <tr>\n",
              "      <th>4</th>\n",
              "      <td>0</td>\n",
              "      <td>0.0</td>\n",
              "      <td>0</td>\n",
              "      <td>0.0</td>\n",
              "      <td>10</td>\n",
              "      <td>627.500000</td>\n",
              "      <td>0.02</td>\n",
              "      <td>0.05</td>\n",
              "      <td>0.0</td>\n",
              "      <td>0.0</td>\n",
              "      <td>Feb</td>\n",
              "      <td>3</td>\n",
              "      <td>3</td>\n",
              "      <td>1</td>\n",
              "      <td>4</td>\n",
              "      <td>Returning_Visitor</td>\n",
              "      <td>True</td>\n",
              "      <td>False</td>\n",
              "      <td>93.928313</td>\n",
              "      <td>38.411540</td>\n",
              "    </tr>\n",
              "  </tbody>\n",
              "</table>\n",
              "</div>"
            ],
            "text/plain": [
              "   Administrative  Administrative_Duration  ...    Cost_FN    Cost_FP\n",
              "0               0                      0.0  ...  28.834902  85.941229\n",
              "1               0                      0.0  ...  85.234945  19.559320\n",
              "2               0                      0.0  ...  98.685411  17.855017\n",
              "3               0                      0.0  ...  38.032143  68.532294\n",
              "4               0                      0.0  ...  93.928313  38.411540\n",
              "\n",
              "[5 rows x 20 columns]"
            ]
          },
          "metadata": {
            "tags": []
          },
          "execution_count": 6
        }
      ]
    },
    {
      "cell_type": "code",
      "metadata": {
        "id": "NYCuXmXvGYk-",
        "colab_type": "code",
        "colab": {
          "base_uri": "https://localhost:8080/",
          "height": 497
        },
        "outputId": "45c3dd22-3cad-47da-ba1f-c9e65bb08ee6"
      },
      "source": [
        "data.info()"
      ],
      "execution_count": null,
      "outputs": [
        {
          "output_type": "stream",
          "text": [
            "<class 'pandas.core.frame.DataFrame'>\n",
            "RangeIndex: 12330 entries, 0 to 12329\n",
            "Data columns (total 20 columns):\n",
            " #   Column                   Non-Null Count  Dtype  \n",
            "---  ------                   --------------  -----  \n",
            " 0   Administrative           12330 non-null  int64  \n",
            " 1   Administrative_Duration  12330 non-null  float64\n",
            " 2   Informational            12330 non-null  int64  \n",
            " 3   Informational_Duration   12330 non-null  float64\n",
            " 4   ProductRelated           12330 non-null  int64  \n",
            " 5   ProductRelated_Duration  12330 non-null  float64\n",
            " 6   BounceRates              12330 non-null  float64\n",
            " 7   ExitRates                12330 non-null  float64\n",
            " 8   PageValues               12330 non-null  float64\n",
            " 9   SpecialDay               12330 non-null  float64\n",
            " 10  Month                    12330 non-null  object \n",
            " 11  OperatingSystems         12330 non-null  int64  \n",
            " 12  Browser                  12330 non-null  int64  \n",
            " 13  Region                   12330 non-null  int64  \n",
            " 14  TrafficType              12330 non-null  int64  \n",
            " 15  VisitorType              12330 non-null  object \n",
            " 16  Weekend                  12330 non-null  bool   \n",
            " 17  Revenue                  12330 non-null  bool   \n",
            " 18  Cost_FN                  12330 non-null  float64\n",
            " 19  Cost_FP                  12330 non-null  float64\n",
            "dtypes: bool(2), float64(9), int64(7), object(2)\n",
            "memory usage: 1.7+ MB\n"
          ],
          "name": "stdout"
        }
      ]
    },
    {
      "cell_type": "code",
      "metadata": {
        "id": "GagRHCghIBNy",
        "colab_type": "code",
        "colab": {
          "base_uri": "https://localhost:8080/",
          "height": 35
        },
        "outputId": "da4f0a8f-9dd3-428a-ec8c-1f98587fdd9e"
      },
      "source": [
        "data.isna().sum().sum()"
      ],
      "execution_count": null,
      "outputs": [
        {
          "output_type": "execute_result",
          "data": {
            "text/plain": [
              "0"
            ]
          },
          "metadata": {
            "tags": []
          },
          "execution_count": 8
        }
      ]
    },
    {
      "cell_type": "code",
      "metadata": {
        "id": "s1XUJUwUGZU2",
        "colab_type": "code",
        "colab": {
          "base_uri": "https://localhost:8080/",
          "height": 35
        },
        "outputId": "6e931c78-b8be-4cfb-f059-2d616e117744"
      },
      "source": [
        "list(data.select_dtypes(\"object\").columns)"
      ],
      "execution_count": null,
      "outputs": [
        {
          "output_type": "execute_result",
          "data": {
            "text/plain": [
              "['Month', 'VisitorType']"
            ]
          },
          "metadata": {
            "tags": []
          },
          "execution_count": 9
        }
      ]
    },
    {
      "cell_type": "code",
      "metadata": {
        "id": "DZGfyOQUH_XH",
        "colab_type": "code",
        "colab": {
          "base_uri": "https://localhost:8080/",
          "height": 302
        },
        "outputId": "88a14a2d-bddf-4999-9e05-24b031674a57"
      },
      "source": [
        "data.describe()"
      ],
      "execution_count": null,
      "outputs": [
        {
          "output_type": "execute_result",
          "data": {
            "text/html": [
              "<div>\n",
              "<style scoped>\n",
              "    .dataframe tbody tr th:only-of-type {\n",
              "        vertical-align: middle;\n",
              "    }\n",
              "\n",
              "    .dataframe tbody tr th {\n",
              "        vertical-align: top;\n",
              "    }\n",
              "\n",
              "    .dataframe thead th {\n",
              "        text-align: right;\n",
              "    }\n",
              "</style>\n",
              "<table border=\"1\" class=\"dataframe\">\n",
              "  <thead>\n",
              "    <tr style=\"text-align: right;\">\n",
              "      <th></th>\n",
              "      <th>Administrative</th>\n",
              "      <th>Administrative_Duration</th>\n",
              "      <th>Informational</th>\n",
              "      <th>Informational_Duration</th>\n",
              "      <th>ProductRelated</th>\n",
              "      <th>ProductRelated_Duration</th>\n",
              "      <th>BounceRates</th>\n",
              "      <th>ExitRates</th>\n",
              "      <th>PageValues</th>\n",
              "      <th>SpecialDay</th>\n",
              "      <th>OperatingSystems</th>\n",
              "      <th>Browser</th>\n",
              "      <th>Region</th>\n",
              "      <th>TrafficType</th>\n",
              "      <th>Cost_FN</th>\n",
              "      <th>Cost_FP</th>\n",
              "    </tr>\n",
              "  </thead>\n",
              "  <tbody>\n",
              "    <tr>\n",
              "      <th>count</th>\n",
              "      <td>12330.000000</td>\n",
              "      <td>12330.000000</td>\n",
              "      <td>12330.000000</td>\n",
              "      <td>12330.000000</td>\n",
              "      <td>12330.000000</td>\n",
              "      <td>12330.000000</td>\n",
              "      <td>12330.000000</td>\n",
              "      <td>12330.000000</td>\n",
              "      <td>12330.000000</td>\n",
              "      <td>12330.000000</td>\n",
              "      <td>12330.000000</td>\n",
              "      <td>12330.000000</td>\n",
              "      <td>12330.000000</td>\n",
              "      <td>12330.000000</td>\n",
              "      <td>12330.000000</td>\n",
              "      <td>12330.000000</td>\n",
              "    </tr>\n",
              "    <tr>\n",
              "      <th>mean</th>\n",
              "      <td>2.315166</td>\n",
              "      <td>80.818611</td>\n",
              "      <td>0.503569</td>\n",
              "      <td>34.472398</td>\n",
              "      <td>31.731468</td>\n",
              "      <td>1194.746220</td>\n",
              "      <td>0.022191</td>\n",
              "      <td>0.043073</td>\n",
              "      <td>5.889258</td>\n",
              "      <td>0.061427</td>\n",
              "      <td>2.124006</td>\n",
              "      <td>2.357097</td>\n",
              "      <td>3.147364</td>\n",
              "      <td>4.069586</td>\n",
              "      <td>49.887325</td>\n",
              "      <td>49.779603</td>\n",
              "    </tr>\n",
              "    <tr>\n",
              "      <th>std</th>\n",
              "      <td>3.321784</td>\n",
              "      <td>176.779107</td>\n",
              "      <td>1.270156</td>\n",
              "      <td>140.749294</td>\n",
              "      <td>44.475503</td>\n",
              "      <td>1913.669288</td>\n",
              "      <td>0.048488</td>\n",
              "      <td>0.048597</td>\n",
              "      <td>18.568437</td>\n",
              "      <td>0.198917</td>\n",
              "      <td>0.911325</td>\n",
              "      <td>1.717277</td>\n",
              "      <td>2.401591</td>\n",
              "      <td>4.025169</td>\n",
              "      <td>28.822063</td>\n",
              "      <td>28.975490</td>\n",
              "    </tr>\n",
              "    <tr>\n",
              "      <th>min</th>\n",
              "      <td>0.000000</td>\n",
              "      <td>0.000000</td>\n",
              "      <td>0.000000</td>\n",
              "      <td>0.000000</td>\n",
              "      <td>0.000000</td>\n",
              "      <td>0.000000</td>\n",
              "      <td>0.000000</td>\n",
              "      <td>0.000000</td>\n",
              "      <td>0.000000</td>\n",
              "      <td>0.000000</td>\n",
              "      <td>1.000000</td>\n",
              "      <td>1.000000</td>\n",
              "      <td>1.000000</td>\n",
              "      <td>1.000000</td>\n",
              "      <td>0.001722</td>\n",
              "      <td>0.001599</td>\n",
              "    </tr>\n",
              "    <tr>\n",
              "      <th>25%</th>\n",
              "      <td>0.000000</td>\n",
              "      <td>0.000000</td>\n",
              "      <td>0.000000</td>\n",
              "      <td>0.000000</td>\n",
              "      <td>7.000000</td>\n",
              "      <td>184.137500</td>\n",
              "      <td>0.000000</td>\n",
              "      <td>0.014286</td>\n",
              "      <td>0.000000</td>\n",
              "      <td>0.000000</td>\n",
              "      <td>2.000000</td>\n",
              "      <td>2.000000</td>\n",
              "      <td>1.000000</td>\n",
              "      <td>2.000000</td>\n",
              "      <td>24.894275</td>\n",
              "      <td>24.993252</td>\n",
              "    </tr>\n",
              "    <tr>\n",
              "      <th>50%</th>\n",
              "      <td>1.000000</td>\n",
              "      <td>7.500000</td>\n",
              "      <td>0.000000</td>\n",
              "      <td>0.000000</td>\n",
              "      <td>18.000000</td>\n",
              "      <td>598.936905</td>\n",
              "      <td>0.003112</td>\n",
              "      <td>0.025156</td>\n",
              "      <td>0.000000</td>\n",
              "      <td>0.000000</td>\n",
              "      <td>2.000000</td>\n",
              "      <td>2.000000</td>\n",
              "      <td>3.000000</td>\n",
              "      <td>2.000000</td>\n",
              "      <td>50.061696</td>\n",
              "      <td>49.451241</td>\n",
              "    </tr>\n",
              "    <tr>\n",
              "      <th>75%</th>\n",
              "      <td>4.000000</td>\n",
              "      <td>93.256250</td>\n",
              "      <td>0.000000</td>\n",
              "      <td>0.000000</td>\n",
              "      <td>38.000000</td>\n",
              "      <td>1464.157213</td>\n",
              "      <td>0.016813</td>\n",
              "      <td>0.050000</td>\n",
              "      <td>0.000000</td>\n",
              "      <td>0.000000</td>\n",
              "      <td>3.000000</td>\n",
              "      <td>2.000000</td>\n",
              "      <td>4.000000</td>\n",
              "      <td>4.000000</td>\n",
              "      <td>74.675241</td>\n",
              "      <td>75.115168</td>\n",
              "    </tr>\n",
              "    <tr>\n",
              "      <th>max</th>\n",
              "      <td>27.000000</td>\n",
              "      <td>3398.750000</td>\n",
              "      <td>24.000000</td>\n",
              "      <td>2549.375000</td>\n",
              "      <td>705.000000</td>\n",
              "      <td>63973.522230</td>\n",
              "      <td>0.200000</td>\n",
              "      <td>0.200000</td>\n",
              "      <td>361.763742</td>\n",
              "      <td>1.000000</td>\n",
              "      <td>8.000000</td>\n",
              "      <td>13.000000</td>\n",
              "      <td>9.000000</td>\n",
              "      <td>20.000000</td>\n",
              "      <td>99.995146</td>\n",
              "      <td>99.998691</td>\n",
              "    </tr>\n",
              "  </tbody>\n",
              "</table>\n",
              "</div>"
            ],
            "text/plain": [
              "       Administrative  Administrative_Duration  ...       Cost_FN       Cost_FP\n",
              "count    12330.000000             12330.000000  ...  12330.000000  12330.000000\n",
              "mean         2.315166                80.818611  ...     49.887325     49.779603\n",
              "std          3.321784               176.779107  ...     28.822063     28.975490\n",
              "min          0.000000                 0.000000  ...      0.001722      0.001599\n",
              "25%          0.000000                 0.000000  ...     24.894275     24.993252\n",
              "50%          1.000000                 7.500000  ...     50.061696     49.451241\n",
              "75%          4.000000                93.256250  ...     74.675241     75.115168\n",
              "max         27.000000              3398.750000  ...     99.995146     99.998691\n",
              "\n",
              "[8 rows x 16 columns]"
            ]
          },
          "metadata": {
            "tags": []
          },
          "execution_count": 10
        }
      ]
    },
    {
      "cell_type": "code",
      "metadata": {
        "id": "sA6ceEnfIOIy",
        "colab_type": "code",
        "colab": {
          "base_uri": "https://localhost:8080/",
          "height": 164
        },
        "outputId": "790d69e5-54f6-46d0-b9f3-152f7abbdc3c"
      },
      "source": [
        "data.describe(include=object)"
      ],
      "execution_count": null,
      "outputs": [
        {
          "output_type": "execute_result",
          "data": {
            "text/html": [
              "<div>\n",
              "<style scoped>\n",
              "    .dataframe tbody tr th:only-of-type {\n",
              "        vertical-align: middle;\n",
              "    }\n",
              "\n",
              "    .dataframe tbody tr th {\n",
              "        vertical-align: top;\n",
              "    }\n",
              "\n",
              "    .dataframe thead th {\n",
              "        text-align: right;\n",
              "    }\n",
              "</style>\n",
              "<table border=\"1\" class=\"dataframe\">\n",
              "  <thead>\n",
              "    <tr style=\"text-align: right;\">\n",
              "      <th></th>\n",
              "      <th>Month</th>\n",
              "      <th>VisitorType</th>\n",
              "    </tr>\n",
              "  </thead>\n",
              "  <tbody>\n",
              "    <tr>\n",
              "      <th>count</th>\n",
              "      <td>12330</td>\n",
              "      <td>12330</td>\n",
              "    </tr>\n",
              "    <tr>\n",
              "      <th>unique</th>\n",
              "      <td>10</td>\n",
              "      <td>3</td>\n",
              "    </tr>\n",
              "    <tr>\n",
              "      <th>top</th>\n",
              "      <td>May</td>\n",
              "      <td>Returning_Visitor</td>\n",
              "    </tr>\n",
              "    <tr>\n",
              "      <th>freq</th>\n",
              "      <td>3364</td>\n",
              "      <td>10551</td>\n",
              "    </tr>\n",
              "  </tbody>\n",
              "</table>\n",
              "</div>"
            ],
            "text/plain": [
              "        Month        VisitorType\n",
              "count   12330              12330\n",
              "unique     10                  3\n",
              "top       May  Returning_Visitor\n",
              "freq     3364              10551"
            ]
          },
          "metadata": {
            "tags": []
          },
          "execution_count": 11
        }
      ]
    },
    {
      "cell_type": "code",
      "metadata": {
        "id": "CYwTgU19MUot",
        "colab_type": "code",
        "colab": {
          "base_uri": "https://localhost:8080/",
          "height": 164
        },
        "outputId": "4fe86bce-fc3e-4e7b-fd6d-384e15589eb9"
      },
      "source": [
        "data.describe(include=bool)"
      ],
      "execution_count": null,
      "outputs": [
        {
          "output_type": "execute_result",
          "data": {
            "text/html": [
              "<div>\n",
              "<style scoped>\n",
              "    .dataframe tbody tr th:only-of-type {\n",
              "        vertical-align: middle;\n",
              "    }\n",
              "\n",
              "    .dataframe tbody tr th {\n",
              "        vertical-align: top;\n",
              "    }\n",
              "\n",
              "    .dataframe thead th {\n",
              "        text-align: right;\n",
              "    }\n",
              "</style>\n",
              "<table border=\"1\" class=\"dataframe\">\n",
              "  <thead>\n",
              "    <tr style=\"text-align: right;\">\n",
              "      <th></th>\n",
              "      <th>Weekend</th>\n",
              "      <th>Revenue</th>\n",
              "    </tr>\n",
              "  </thead>\n",
              "  <tbody>\n",
              "    <tr>\n",
              "      <th>count</th>\n",
              "      <td>12330</td>\n",
              "      <td>12330</td>\n",
              "    </tr>\n",
              "    <tr>\n",
              "      <th>unique</th>\n",
              "      <td>2</td>\n",
              "      <td>2</td>\n",
              "    </tr>\n",
              "    <tr>\n",
              "      <th>top</th>\n",
              "      <td>False</td>\n",
              "      <td>False</td>\n",
              "    </tr>\n",
              "    <tr>\n",
              "      <th>freq</th>\n",
              "      <td>9462</td>\n",
              "      <td>10422</td>\n",
              "    </tr>\n",
              "  </tbody>\n",
              "</table>\n",
              "</div>"
            ],
            "text/plain": [
              "       Weekend Revenue\n",
              "count    12330   12330\n",
              "unique       2       2\n",
              "top      False   False\n",
              "freq      9462   10422"
            ]
          },
          "metadata": {
            "tags": []
          },
          "execution_count": 12
        }
      ]
    },
    {
      "cell_type": "code",
      "metadata": {
        "id": "sgP8KEqeIQEB",
        "colab_type": "code",
        "colab": {}
      },
      "source": [
        "y = data[\"Revenue\"]\n",
        "X = data.drop(\"Revenue\", axis =1)"
      ],
      "execution_count": null,
      "outputs": []
    },
    {
      "cell_type": "code",
      "metadata": {
        "id": "yMTSthQcMiwS",
        "colab_type": "code",
        "colab": {
          "base_uri": "https://localhost:8080/",
          "height": 70
        },
        "outputId": "1566a945-0d13-4b2b-f4b4-c528004e18da"
      },
      "source": [
        "y.value_counts()"
      ],
      "execution_count": null,
      "outputs": [
        {
          "output_type": "execute_result",
          "data": {
            "text/plain": [
              "False    10422\n",
              "True      1908\n",
              "Name: Revenue, dtype: int64"
            ]
          },
          "metadata": {
            "tags": []
          },
          "execution_count": 14
        }
      ]
    },
    {
      "cell_type": "code",
      "metadata": {
        "id": "cKNo-wJHMlaC",
        "colab_type": "code",
        "colab": {
          "base_uri": "https://localhost:8080/",
          "height": 35
        },
        "outputId": "8b0a676d-04aa-496d-b980-569a2fd12ef8"
      },
      "source": [
        "1908/(1908+10422)"
      ],
      "execution_count": null,
      "outputs": [
        {
          "output_type": "execute_result",
          "data": {
            "text/plain": [
              "0.15474452554744525"
            ]
          },
          "metadata": {
            "tags": []
          },
          "execution_count": 15
        }
      ]
    },
    {
      "cell_type": "code",
      "metadata": {
        "id": "RNrvp0dbMqcU",
        "colab_type": "code",
        "colab": {
          "base_uri": "https://localhost:8080/",
          "height": 194
        },
        "outputId": "d3548452-6520-4d82-dc34-7c0ac7a1f227"
      },
      "source": [
        "X_num = X.select_dtypes(\"number\")\n",
        "X_cat = X.select_dtypes(\"object\")\n",
        "cost_cols = X_num[['Cost_FP', 'Cost_FN']]\n",
        "cost_cols.head()"
      ],
      "execution_count": null,
      "outputs": [
        {
          "output_type": "execute_result",
          "data": {
            "text/html": [
              "<div>\n",
              "<style scoped>\n",
              "    .dataframe tbody tr th:only-of-type {\n",
              "        vertical-align: middle;\n",
              "    }\n",
              "\n",
              "    .dataframe tbody tr th {\n",
              "        vertical-align: top;\n",
              "    }\n",
              "\n",
              "    .dataframe thead th {\n",
              "        text-align: right;\n",
              "    }\n",
              "</style>\n",
              "<table border=\"1\" class=\"dataframe\">\n",
              "  <thead>\n",
              "    <tr style=\"text-align: right;\">\n",
              "      <th></th>\n",
              "      <th>Cost_FP</th>\n",
              "      <th>Cost_FN</th>\n",
              "    </tr>\n",
              "  </thead>\n",
              "  <tbody>\n",
              "    <tr>\n",
              "      <th>0</th>\n",
              "      <td>85.941229</td>\n",
              "      <td>28.834902</td>\n",
              "    </tr>\n",
              "    <tr>\n",
              "      <th>1</th>\n",
              "      <td>19.559320</td>\n",
              "      <td>85.234945</td>\n",
              "    </tr>\n",
              "    <tr>\n",
              "      <th>2</th>\n",
              "      <td>17.855017</td>\n",
              "      <td>98.685411</td>\n",
              "    </tr>\n",
              "    <tr>\n",
              "      <th>3</th>\n",
              "      <td>68.532294</td>\n",
              "      <td>38.032143</td>\n",
              "    </tr>\n",
              "    <tr>\n",
              "      <th>4</th>\n",
              "      <td>38.411540</td>\n",
              "      <td>93.928313</td>\n",
              "    </tr>\n",
              "  </tbody>\n",
              "</table>\n",
              "</div>"
            ],
            "text/plain": [
              "     Cost_FP    Cost_FN\n",
              "0  85.941229  28.834902\n",
              "1  19.559320  85.234945\n",
              "2  17.855017  98.685411\n",
              "3  68.532294  38.032143\n",
              "4  38.411540  93.928313"
            ]
          },
          "metadata": {
            "tags": []
          },
          "execution_count": 16
        }
      ]
    },
    {
      "cell_type": "code",
      "metadata": {
        "id": "MxoMVVXeMwSs",
        "colab_type": "code",
        "colab": {
          "base_uri": "https://localhost:8080/",
          "height": 106
        },
        "outputId": "f1c7297f-a9e5-41cf-bc80-d55a9a5e8425"
      },
      "source": [
        "X_num.drop([\"OperatingSystems\", \"Browser\", \"Region\", \"TrafficType\", 'Cost_FP', 'Cost_FN'], axis=1, inplace=True)"
      ],
      "execution_count": null,
      "outputs": [
        {
          "output_type": "stream",
          "text": [
            "/usr/local/lib/python3.6/dist-packages/pandas/core/frame.py:3997: SettingWithCopyWarning: \n",
            "A value is trying to be set on a copy of a slice from a DataFrame\n",
            "\n",
            "See the caveats in the documentation: https://pandas.pydata.org/pandas-docs/stable/user_guide/indexing.html#returning-a-view-versus-a-copy\n",
            "  errors=errors,\n"
          ],
          "name": "stderr"
        }
      ]
    },
    {
      "cell_type": "code",
      "metadata": {
        "id": "gOTEleYdMxYT",
        "colab_type": "code",
        "colab": {}
      },
      "source": [
        "X_cat = pd.concat([X_cat, data[[\"OperatingSystems\", \"Browser\", \"Region\", \"TrafficType\", \"Weekend\"]]], axis =1)"
      ],
      "execution_count": null,
      "outputs": []
    },
    {
      "cell_type": "code",
      "metadata": {
        "id": "zrye1zTfN6rJ",
        "colab_type": "code",
        "colab": {
          "base_uri": "https://localhost:8080/",
          "height": 194
        },
        "outputId": "3f125729-3614-4306-9267-4812d726c13a"
      },
      "source": [
        "X_cat.head()"
      ],
      "execution_count": null,
      "outputs": [
        {
          "output_type": "execute_result",
          "data": {
            "text/html": [
              "<div>\n",
              "<style scoped>\n",
              "    .dataframe tbody tr th:only-of-type {\n",
              "        vertical-align: middle;\n",
              "    }\n",
              "\n",
              "    .dataframe tbody tr th {\n",
              "        vertical-align: top;\n",
              "    }\n",
              "\n",
              "    .dataframe thead th {\n",
              "        text-align: right;\n",
              "    }\n",
              "</style>\n",
              "<table border=\"1\" class=\"dataframe\">\n",
              "  <thead>\n",
              "    <tr style=\"text-align: right;\">\n",
              "      <th></th>\n",
              "      <th>Month</th>\n",
              "      <th>VisitorType</th>\n",
              "      <th>OperatingSystems</th>\n",
              "      <th>Browser</th>\n",
              "      <th>Region</th>\n",
              "      <th>TrafficType</th>\n",
              "      <th>Weekend</th>\n",
              "    </tr>\n",
              "  </thead>\n",
              "  <tbody>\n",
              "    <tr>\n",
              "      <th>0</th>\n",
              "      <td>Feb</td>\n",
              "      <td>Returning_Visitor</td>\n",
              "      <td>1</td>\n",
              "      <td>1</td>\n",
              "      <td>1</td>\n",
              "      <td>1</td>\n",
              "      <td>False</td>\n",
              "    </tr>\n",
              "    <tr>\n",
              "      <th>1</th>\n",
              "      <td>Feb</td>\n",
              "      <td>Returning_Visitor</td>\n",
              "      <td>2</td>\n",
              "      <td>2</td>\n",
              "      <td>1</td>\n",
              "      <td>2</td>\n",
              "      <td>False</td>\n",
              "    </tr>\n",
              "    <tr>\n",
              "      <th>2</th>\n",
              "      <td>Feb</td>\n",
              "      <td>Returning_Visitor</td>\n",
              "      <td>4</td>\n",
              "      <td>1</td>\n",
              "      <td>9</td>\n",
              "      <td>3</td>\n",
              "      <td>False</td>\n",
              "    </tr>\n",
              "    <tr>\n",
              "      <th>3</th>\n",
              "      <td>Feb</td>\n",
              "      <td>Returning_Visitor</td>\n",
              "      <td>3</td>\n",
              "      <td>2</td>\n",
              "      <td>2</td>\n",
              "      <td>4</td>\n",
              "      <td>False</td>\n",
              "    </tr>\n",
              "    <tr>\n",
              "      <th>4</th>\n",
              "      <td>Feb</td>\n",
              "      <td>Returning_Visitor</td>\n",
              "      <td>3</td>\n",
              "      <td>3</td>\n",
              "      <td>1</td>\n",
              "      <td>4</td>\n",
              "      <td>True</td>\n",
              "    </tr>\n",
              "  </tbody>\n",
              "</table>\n",
              "</div>"
            ],
            "text/plain": [
              "  Month        VisitorType  OperatingSystems  ...  Region  TrafficType  Weekend\n",
              "0   Feb  Returning_Visitor                 1  ...       1            1    False\n",
              "1   Feb  Returning_Visitor                 2  ...       1            2    False\n",
              "2   Feb  Returning_Visitor                 4  ...       9            3    False\n",
              "3   Feb  Returning_Visitor                 3  ...       2            4    False\n",
              "4   Feb  Returning_Visitor                 3  ...       1            4     True\n",
              "\n",
              "[5 rows x 7 columns]"
            ]
          },
          "metadata": {
            "tags": []
          },
          "execution_count": 19
        }
      ]
    },
    {
      "cell_type": "code",
      "metadata": {
        "id": "izkPOW3AONrS",
        "colab_type": "code",
        "colab": {}
      },
      "source": [
        "from sklearn.preprocessing import OneHotEncoder, StandardScaler\n",
        "from sklearn.model_selection import train_test_split"
      ],
      "execution_count": null,
      "outputs": []
    },
    {
      "cell_type": "code",
      "metadata": {
        "id": "i3dtCzGbOQ9i",
        "colab_type": "code",
        "colab": {}
      },
      "source": [
        "ohe = OneHotEncoder(sparse=False, drop=\"first\")\n",
        "X_enc = pd.DataFrame()\n",
        "for col in X_cat.columns:\n",
        "    temp = pd.DataFrame(ohe.fit_transform(X_cat[[col]]))\n",
        "    temp.columns = ohe.get_feature_names([col])\n",
        "    X_enc = pd.concat([X_enc, temp], axis =1)"
      ],
      "execution_count": null,
      "outputs": []
    },
    {
      "cell_type": "code",
      "metadata": {
        "id": "iDRmgtthOZVx",
        "colab_type": "code",
        "colab": {
          "base_uri": "https://localhost:8080/",
          "height": 1000
        },
        "outputId": "4a185faf-8695-4d10-ef95-0ce99e0d068a"
      },
      "source": [
        "X_enc.info()"
      ],
      "execution_count": null,
      "outputs": [
        {
          "output_type": "stream",
          "text": [
            "<class 'pandas.core.frame.DataFrame'>\n",
            "RangeIndex: 12330 entries, 0 to 12329\n",
            "Data columns (total 58 columns):\n",
            " #   Column                         Non-Null Count  Dtype  \n",
            "---  ------                         --------------  -----  \n",
            " 0   Month_Dec                      12330 non-null  float64\n",
            " 1   Month_Feb                      12330 non-null  float64\n",
            " 2   Month_Jul                      12330 non-null  float64\n",
            " 3   Month_June                     12330 non-null  float64\n",
            " 4   Month_Mar                      12330 non-null  float64\n",
            " 5   Month_May                      12330 non-null  float64\n",
            " 6   Month_Nov                      12330 non-null  float64\n",
            " 7   Month_Oct                      12330 non-null  float64\n",
            " 8   Month_Sep                      12330 non-null  float64\n",
            " 9   VisitorType_Other              12330 non-null  float64\n",
            " 10  VisitorType_Returning_Visitor  12330 non-null  float64\n",
            " 11  OperatingSystems_2             12330 non-null  float64\n",
            " 12  OperatingSystems_3             12330 non-null  float64\n",
            " 13  OperatingSystems_4             12330 non-null  float64\n",
            " 14  OperatingSystems_5             12330 non-null  float64\n",
            " 15  OperatingSystems_6             12330 non-null  float64\n",
            " 16  OperatingSystems_7             12330 non-null  float64\n",
            " 17  OperatingSystems_8             12330 non-null  float64\n",
            " 18  Browser_2                      12330 non-null  float64\n",
            " 19  Browser_3                      12330 non-null  float64\n",
            " 20  Browser_4                      12330 non-null  float64\n",
            " 21  Browser_5                      12330 non-null  float64\n",
            " 22  Browser_6                      12330 non-null  float64\n",
            " 23  Browser_7                      12330 non-null  float64\n",
            " 24  Browser_8                      12330 non-null  float64\n",
            " 25  Browser_9                      12330 non-null  float64\n",
            " 26  Browser_10                     12330 non-null  float64\n",
            " 27  Browser_11                     12330 non-null  float64\n",
            " 28  Browser_12                     12330 non-null  float64\n",
            " 29  Browser_13                     12330 non-null  float64\n",
            " 30  Region_2                       12330 non-null  float64\n",
            " 31  Region_3                       12330 non-null  float64\n",
            " 32  Region_4                       12330 non-null  float64\n",
            " 33  Region_5                       12330 non-null  float64\n",
            " 34  Region_6                       12330 non-null  float64\n",
            " 35  Region_7                       12330 non-null  float64\n",
            " 36  Region_8                       12330 non-null  float64\n",
            " 37  Region_9                       12330 non-null  float64\n",
            " 38  TrafficType_2                  12330 non-null  float64\n",
            " 39  TrafficType_3                  12330 non-null  float64\n",
            " 40  TrafficType_4                  12330 non-null  float64\n",
            " 41  TrafficType_5                  12330 non-null  float64\n",
            " 42  TrafficType_6                  12330 non-null  float64\n",
            " 43  TrafficType_7                  12330 non-null  float64\n",
            " 44  TrafficType_8                  12330 non-null  float64\n",
            " 45  TrafficType_9                  12330 non-null  float64\n",
            " 46  TrafficType_10                 12330 non-null  float64\n",
            " 47  TrafficType_11                 12330 non-null  float64\n",
            " 48  TrafficType_12                 12330 non-null  float64\n",
            " 49  TrafficType_13                 12330 non-null  float64\n",
            " 50  TrafficType_14                 12330 non-null  float64\n",
            " 51  TrafficType_15                 12330 non-null  float64\n",
            " 52  TrafficType_16                 12330 non-null  float64\n",
            " 53  TrafficType_17                 12330 non-null  float64\n",
            " 54  TrafficType_18                 12330 non-null  float64\n",
            " 55  TrafficType_19                 12330 non-null  float64\n",
            " 56  TrafficType_20                 12330 non-null  float64\n",
            " 57  Weekend_True                   12330 non-null  float64\n",
            "dtypes: float64(58)\n",
            "memory usage: 5.5 MB\n"
          ],
          "name": "stdout"
        }
      ]
    },
    {
      "cell_type": "code",
      "metadata": {
        "id": "Lm-u47bIOm4f",
        "colab_type": "code",
        "colab": {
          "base_uri": "https://localhost:8080/",
          "height": 386
        },
        "outputId": "7c79fc7a-b6f3-4f70-8c89-4ab13e74e869"
      },
      "source": [
        "scaler = StandardScaler()\n",
        "X_num_scaled = pd.DataFrame(scaler.fit_transform(X_num))\n",
        "X_num_scaled.columns = X_num.columns\n",
        "X_num_scaled.describe()"
      ],
      "execution_count": null,
      "outputs": [
        {
          "output_type": "execute_result",
          "data": {
            "text/html": [
              "<div>\n",
              "<style scoped>\n",
              "    .dataframe tbody tr th:only-of-type {\n",
              "        vertical-align: middle;\n",
              "    }\n",
              "\n",
              "    .dataframe tbody tr th {\n",
              "        vertical-align: top;\n",
              "    }\n",
              "\n",
              "    .dataframe thead th {\n",
              "        text-align: right;\n",
              "    }\n",
              "</style>\n",
              "<table border=\"1\" class=\"dataframe\">\n",
              "  <thead>\n",
              "    <tr style=\"text-align: right;\">\n",
              "      <th></th>\n",
              "      <th>Administrative</th>\n",
              "      <th>Administrative_Duration</th>\n",
              "      <th>Informational</th>\n",
              "      <th>Informational_Duration</th>\n",
              "      <th>ProductRelated</th>\n",
              "      <th>ProductRelated_Duration</th>\n",
              "      <th>BounceRates</th>\n",
              "      <th>ExitRates</th>\n",
              "      <th>PageValues</th>\n",
              "      <th>SpecialDay</th>\n",
              "    </tr>\n",
              "  </thead>\n",
              "  <tbody>\n",
              "    <tr>\n",
              "      <th>count</th>\n",
              "      <td>1.233000e+04</td>\n",
              "      <td>1.233000e+04</td>\n",
              "      <td>1.233000e+04</td>\n",
              "      <td>1.233000e+04</td>\n",
              "      <td>1.233000e+04</td>\n",
              "      <td>1.233000e+04</td>\n",
              "      <td>1.233000e+04</td>\n",
              "      <td>1.233000e+04</td>\n",
              "      <td>1.233000e+04</td>\n",
              "      <td>1.233000e+04</td>\n",
              "    </tr>\n",
              "    <tr>\n",
              "      <th>mean</th>\n",
              "      <td>-1.375191e-15</td>\n",
              "      <td>2.074316e-15</td>\n",
              "      <td>6.987391e-15</td>\n",
              "      <td>1.765777e-16</td>\n",
              "      <td>-2.849753e-16</td>\n",
              "      <td>1.021684e-15</td>\n",
              "      <td>1.333384e-15</td>\n",
              "      <td>-2.622846e-16</td>\n",
              "      <td>-4.953810e-15</td>\n",
              "      <td>-1.722823e-14</td>\n",
              "    </tr>\n",
              "    <tr>\n",
              "      <th>std</th>\n",
              "      <td>1.000041e+00</td>\n",
              "      <td>1.000041e+00</td>\n",
              "      <td>1.000041e+00</td>\n",
              "      <td>1.000041e+00</td>\n",
              "      <td>1.000041e+00</td>\n",
              "      <td>1.000041e+00</td>\n",
              "      <td>1.000041e+00</td>\n",
              "      <td>1.000041e+00</td>\n",
              "      <td>1.000041e+00</td>\n",
              "      <td>1.000041e+00</td>\n",
              "    </tr>\n",
              "    <tr>\n",
              "      <th>min</th>\n",
              "      <td>-6.969930e-01</td>\n",
              "      <td>-4.571914e-01</td>\n",
              "      <td>-3.964779e-01</td>\n",
              "      <td>-2.449305e-01</td>\n",
              "      <td>-7.134884e-01</td>\n",
              "      <td>-6.243475e-01</td>\n",
              "      <td>-4.576830e-01</td>\n",
              "      <td>-8.863706e-01</td>\n",
              "      <td>-3.171778e-01</td>\n",
              "      <td>-3.088214e-01</td>\n",
              "    </tr>\n",
              "    <tr>\n",
              "      <th>25%</th>\n",
              "      <td>-6.969930e-01</td>\n",
              "      <td>-4.571914e-01</td>\n",
              "      <td>-3.964779e-01</td>\n",
              "      <td>-2.449305e-01</td>\n",
              "      <td>-5.560920e-01</td>\n",
              "      <td>-5.281214e-01</td>\n",
              "      <td>-4.576830e-01</td>\n",
              "      <td>-5.923930e-01</td>\n",
              "      <td>-3.171778e-01</td>\n",
              "      <td>-3.088214e-01</td>\n",
              "    </tr>\n",
              "    <tr>\n",
              "      <th>50%</th>\n",
              "      <td>-3.959377e-01</td>\n",
              "      <td>-4.147639e-01</td>\n",
              "      <td>-3.964779e-01</td>\n",
              "      <td>-2.449305e-01</td>\n",
              "      <td>-3.087548e-01</td>\n",
              "      <td>-3.113566e-01</td>\n",
              "      <td>-3.934903e-01</td>\n",
              "      <td>-3.686913e-01</td>\n",
              "      <td>-3.171778e-01</td>\n",
              "      <td>-3.088214e-01</td>\n",
              "    </tr>\n",
              "    <tr>\n",
              "      <th>75%</th>\n",
              "      <td>5.072280e-01</td>\n",
              "      <td>7.035981e-02</td>\n",
              "      <td>-3.964779e-01</td>\n",
              "      <td>-2.449305e-01</td>\n",
              "      <td>1.409492e-01</td>\n",
              "      <td>1.407881e-01</td>\n",
              "      <td>-1.109348e-01</td>\n",
              "      <td>1.425510e-01</td>\n",
              "      <td>-3.171778e-01</td>\n",
              "      <td>-3.088214e-01</td>\n",
              "    </tr>\n",
              "    <tr>\n",
              "      <th>max</th>\n",
              "      <td>7.431499e+00</td>\n",
              "      <td>1.876956e+01</td>\n",
              "      <td>1.849960e+01</td>\n",
              "      <td>1.786868e+01</td>\n",
              "      <td>1.513858e+01</td>\n",
              "      <td>3.280678e+01</td>\n",
              "      <td>3.667189e+00</td>\n",
              "      <td>3.229316e+00</td>\n",
              "      <td>1.916634e+01</td>\n",
              "      <td>4.718598e+00</td>\n",
              "    </tr>\n",
              "  </tbody>\n",
              "</table>\n",
              "</div>"
            ],
            "text/plain": [
              "       Administrative  Administrative_Duration  ...    PageValues    SpecialDay\n",
              "count    1.233000e+04             1.233000e+04  ...  1.233000e+04  1.233000e+04\n",
              "mean    -1.375191e-15             2.074316e-15  ... -4.953810e-15 -1.722823e-14\n",
              "std      1.000041e+00             1.000041e+00  ...  1.000041e+00  1.000041e+00\n",
              "min     -6.969930e-01            -4.571914e-01  ... -3.171778e-01 -3.088214e-01\n",
              "25%     -6.969930e-01            -4.571914e-01  ... -3.171778e-01 -3.088214e-01\n",
              "50%     -3.959377e-01            -4.147639e-01  ... -3.171778e-01 -3.088214e-01\n",
              "75%      5.072280e-01             7.035981e-02  ... -3.171778e-01 -3.088214e-01\n",
              "max      7.431499e+00             1.876956e+01  ...  1.916634e+01  4.718598e+00\n",
              "\n",
              "[8 rows x 10 columns]"
            ]
          },
          "metadata": {
            "tags": []
          },
          "execution_count": 23
        }
      ]
    },
    {
      "cell_type": "code",
      "metadata": {
        "id": "NN8dwUMOOv72",
        "colab_type": "code",
        "colab": {
          "base_uri": "https://localhost:8080/",
          "height": 1000
        },
        "outputId": "fb3015ca-67f8-4c36-d288-146ffe305550"
      },
      "source": [
        "X_ohe = pd.concat([X_num_scaled, X_enc, cost_cols], axis =1)\n",
        "print(X_ohe.shape)\n",
        "X_ohe.info()"
      ],
      "execution_count": null,
      "outputs": [
        {
          "output_type": "stream",
          "text": [
            "(12330, 70)\n",
            "<class 'pandas.core.frame.DataFrame'>\n",
            "RangeIndex: 12330 entries, 0 to 12329\n",
            "Data columns (total 70 columns):\n",
            " #   Column                         Non-Null Count  Dtype  \n",
            "---  ------                         --------------  -----  \n",
            " 0   Administrative                 12330 non-null  float64\n",
            " 1   Administrative_Duration        12330 non-null  float64\n",
            " 2   Informational                  12330 non-null  float64\n",
            " 3   Informational_Duration         12330 non-null  float64\n",
            " 4   ProductRelated                 12330 non-null  float64\n",
            " 5   ProductRelated_Duration        12330 non-null  float64\n",
            " 6   BounceRates                    12330 non-null  float64\n",
            " 7   ExitRates                      12330 non-null  float64\n",
            " 8   PageValues                     12330 non-null  float64\n",
            " 9   SpecialDay                     12330 non-null  float64\n",
            " 10  Month_Dec                      12330 non-null  float64\n",
            " 11  Month_Feb                      12330 non-null  float64\n",
            " 12  Month_Jul                      12330 non-null  float64\n",
            " 13  Month_June                     12330 non-null  float64\n",
            " 14  Month_Mar                      12330 non-null  float64\n",
            " 15  Month_May                      12330 non-null  float64\n",
            " 16  Month_Nov                      12330 non-null  float64\n",
            " 17  Month_Oct                      12330 non-null  float64\n",
            " 18  Month_Sep                      12330 non-null  float64\n",
            " 19  VisitorType_Other              12330 non-null  float64\n",
            " 20  VisitorType_Returning_Visitor  12330 non-null  float64\n",
            " 21  OperatingSystems_2             12330 non-null  float64\n",
            " 22  OperatingSystems_3             12330 non-null  float64\n",
            " 23  OperatingSystems_4             12330 non-null  float64\n",
            " 24  OperatingSystems_5             12330 non-null  float64\n",
            " 25  OperatingSystems_6             12330 non-null  float64\n",
            " 26  OperatingSystems_7             12330 non-null  float64\n",
            " 27  OperatingSystems_8             12330 non-null  float64\n",
            " 28  Browser_2                      12330 non-null  float64\n",
            " 29  Browser_3                      12330 non-null  float64\n",
            " 30  Browser_4                      12330 non-null  float64\n",
            " 31  Browser_5                      12330 non-null  float64\n",
            " 32  Browser_6                      12330 non-null  float64\n",
            " 33  Browser_7                      12330 non-null  float64\n",
            " 34  Browser_8                      12330 non-null  float64\n",
            " 35  Browser_9                      12330 non-null  float64\n",
            " 36  Browser_10                     12330 non-null  float64\n",
            " 37  Browser_11                     12330 non-null  float64\n",
            " 38  Browser_12                     12330 non-null  float64\n",
            " 39  Browser_13                     12330 non-null  float64\n",
            " 40  Region_2                       12330 non-null  float64\n",
            " 41  Region_3                       12330 non-null  float64\n",
            " 42  Region_4                       12330 non-null  float64\n",
            " 43  Region_5                       12330 non-null  float64\n",
            " 44  Region_6                       12330 non-null  float64\n",
            " 45  Region_7                       12330 non-null  float64\n",
            " 46  Region_8                       12330 non-null  float64\n",
            " 47  Region_9                       12330 non-null  float64\n",
            " 48  TrafficType_2                  12330 non-null  float64\n",
            " 49  TrafficType_3                  12330 non-null  float64\n",
            " 50  TrafficType_4                  12330 non-null  float64\n",
            " 51  TrafficType_5                  12330 non-null  float64\n",
            " 52  TrafficType_6                  12330 non-null  float64\n",
            " 53  TrafficType_7                  12330 non-null  float64\n",
            " 54  TrafficType_8                  12330 non-null  float64\n",
            " 55  TrafficType_9                  12330 non-null  float64\n",
            " 56  TrafficType_10                 12330 non-null  float64\n",
            " 57  TrafficType_11                 12330 non-null  float64\n",
            " 58  TrafficType_12                 12330 non-null  float64\n",
            " 59  TrafficType_13                 12330 non-null  float64\n",
            " 60  TrafficType_14                 12330 non-null  float64\n",
            " 61  TrafficType_15                 12330 non-null  float64\n",
            " 62  TrafficType_16                 12330 non-null  float64\n",
            " 63  TrafficType_17                 12330 non-null  float64\n",
            " 64  TrafficType_18                 12330 non-null  float64\n",
            " 65  TrafficType_19                 12330 non-null  float64\n",
            " 66  TrafficType_20                 12330 non-null  float64\n",
            " 67  Weekend_True                   12330 non-null  float64\n",
            " 68  Cost_FP                        12330 non-null  float64\n",
            " 69  Cost_FN                        12330 non-null  float64\n",
            "dtypes: float64(70)\n",
            "memory usage: 6.6 MB\n"
          ],
          "name": "stdout"
        }
      ]
    },
    {
      "cell_type": "code",
      "metadata": {
        "id": "-VBFQkuEPWz6",
        "colab_type": "code",
        "colab": {}
      },
      "source": [
        "y = y.astype('uint8')"
      ],
      "execution_count": null,
      "outputs": []
    },
    {
      "cell_type": "code",
      "metadata": {
        "id": "KV5LpuHpO5qo",
        "colab_type": "code",
        "colab": {}
      },
      "source": [
        "X_train, X_test, y_train, y_test = train_test_split(X_ohe, y, train_size=0.8, random_state = 42)"
      ],
      "execution_count": null,
      "outputs": []
    },
    {
      "cell_type": "code",
      "metadata": {
        "id": "bbamvOyzPdmL",
        "colab_type": "code",
        "colab": {
          "base_uri": "https://localhost:8080/",
          "height": 106
        },
        "outputId": "069d45b1-bc2f-4b2d-f0e4-66646b5905f3"
      },
      "source": [
        "train_cost_cols = X_train[['Cost_FP', 'Cost_FN']]\n",
        "X_train.drop(['Cost_FP', 'Cost_FN'], axis = 1, inplace = True)"
      ],
      "execution_count": null,
      "outputs": [
        {
          "output_type": "stream",
          "text": [
            "/usr/local/lib/python3.6/dist-packages/pandas/core/frame.py:3997: SettingWithCopyWarning: \n",
            "A value is trying to be set on a copy of a slice from a DataFrame\n",
            "\n",
            "See the caveats in the documentation: https://pandas.pydata.org/pandas-docs/stable/user_guide/indexing.html#returning-a-view-versus-a-copy\n",
            "  errors=errors,\n"
          ],
          "name": "stderr"
        }
      ]
    },
    {
      "cell_type": "code",
      "metadata": {
        "id": "pl7IR7ubQCYs",
        "colab_type": "code",
        "colab": {
          "base_uri": "https://localhost:8080/",
          "height": 106
        },
        "outputId": "d20e9fee-89bc-4e01-c41c-3251909a12e0"
      },
      "source": [
        "test_cost_cols = X_test[['Cost_FP', 'Cost_FN']]\n",
        "X_test.drop(['Cost_FP', 'Cost_FN'], axis = 1, inplace = True)"
      ],
      "execution_count": null,
      "outputs": [
        {
          "output_type": "stream",
          "text": [
            "/usr/local/lib/python3.6/dist-packages/pandas/core/frame.py:3997: SettingWithCopyWarning: \n",
            "A value is trying to be set on a copy of a slice from a DataFrame\n",
            "\n",
            "See the caveats in the documentation: https://pandas.pydata.org/pandas-docs/stable/user_guide/indexing.html#returning-a-view-versus-a-copy\n",
            "  errors=errors,\n"
          ],
          "name": "stderr"
        }
      ]
    },
    {
      "cell_type": "code",
      "metadata": {
        "id": "SJbR9PU9QQGs",
        "colab_type": "code",
        "colab": {
          "base_uri": "https://localhost:8080/",
          "height": 35
        },
        "outputId": "c2a8bf26-87c8-4b60-85a7-ed3fb781f532"
      },
      "source": [
        "X_train.shape"
      ],
      "execution_count": null,
      "outputs": [
        {
          "output_type": "execute_result",
          "data": {
            "text/plain": [
              "(9864, 68)"
            ]
          },
          "metadata": {
            "tags": []
          },
          "execution_count": 29
        }
      ]
    },
    {
      "cell_type": "code",
      "metadata": {
        "id": "01IR5_mw7Zwy",
        "colab_type": "code",
        "colab": {
          "base_uri": "https://localhost:8080/",
          "height": 35
        },
        "outputId": "e4593b71-941d-437a-bcf9-431d8ff92e6a"
      },
      "source": [
        "X_test.shape"
      ],
      "execution_count": null,
      "outputs": [
        {
          "output_type": "execute_result",
          "data": {
            "text/plain": [
              "(2466, 68)"
            ]
          },
          "metadata": {
            "tags": []
          },
          "execution_count": 48
        }
      ]
    },
    {
      "cell_type": "code",
      "metadata": {
        "id": "DsSOdtm3QSXo",
        "colab_type": "code",
        "colab": {
          "base_uri": "https://localhost:8080/",
          "height": 35
        },
        "outputId": "205cc4bb-4fbc-476f-d2d8-c6da4b868365"
      },
      "source": [
        "y_train_array = np.array(y_train)\n",
        "y_train_array[1:10]"
      ],
      "execution_count": null,
      "outputs": [
        {
          "output_type": "execute_result",
          "data": {
            "text/plain": [
              "array([0, 0, 0, 0, 0, 1, 0, 0, 0], dtype=uint8)"
            ]
          },
          "metadata": {
            "tags": []
          },
          "execution_count": 30
        }
      ]
    },
    {
      "cell_type": "code",
      "metadata": {
        "id": "r2mlLh56QXyr",
        "colab_type": "code",
        "colab": {
          "base_uri": "https://localhost:8080/",
          "height": 35
        },
        "outputId": "8c9baf9d-e4aa-4ba1-8e14-e2166f378e32"
      },
      "source": [
        "y_test_array = np.array(y_test)\n",
        "y_test_array[1:10]"
      ],
      "execution_count": null,
      "outputs": [
        {
          "output_type": "execute_result",
          "data": {
            "text/plain": [
              "array([1, 0, 0, 0, 0, 0, 0, 0, 0], dtype=uint8)"
            ]
          },
          "metadata": {
            "tags": []
          },
          "execution_count": 31
        }
      ]
    },
    {
      "cell_type": "code",
      "metadata": {
        "id": "g_0EfcrvQZpS",
        "colab_type": "code",
        "colab": {}
      },
      "source": [
        "fp_cost_array = np.array(train_cost_cols[\"Cost_FP\"])\n",
        "fn_cost_array = np.array(train_cost_cols[\"Cost_FN\"])"
      ],
      "execution_count": null,
      "outputs": []
    },
    {
      "cell_type": "code",
      "metadata": {
        "id": "qkH1OjlNQcGo",
        "colab_type": "code",
        "colab": {}
      },
      "source": [
        "fp_cost_array_test = np.array(test_cost_cols[\"Cost_FP\"])\n",
        "fn_cost_array_test = np.array(test_cost_cols[\"Cost_FN\"])"
      ],
      "execution_count": null,
      "outputs": []
    },
    {
      "cell_type": "markdown",
      "metadata": {
        "id": "ppr9rvC2RIXg",
        "colab_type": "text"
      },
      "source": [
        "##Base Model"
      ]
    },
    {
      "cell_type": "code",
      "metadata": {
        "id": "VjfpK2AFQkue",
        "colab_type": "code",
        "colab": {}
      },
      "source": [
        "base_pred = np.zeros((9864,))"
      ],
      "execution_count": null,
      "outputs": []
    },
    {
      "cell_type": "code",
      "metadata": {
        "id": "zhLk_kbG7gaX",
        "colab_type": "code",
        "colab": {}
      },
      "source": [
        "base_pred_test = np.zeros((2466,))"
      ],
      "execution_count": null,
      "outputs": []
    },
    {
      "cell_type": "code",
      "metadata": {
        "id": "2eKj8LeYQuJP",
        "colab_type": "code",
        "colab": {}
      },
      "source": [
        "cost_per_record = (y_train_array*((base_pred*0) + ((1-base_pred)*fn_cost_array))) + ((1-y_train_array)*((base_pred*fp_cost_array) + ((1-base_pred)*0)))"
      ],
      "execution_count": null,
      "outputs": []
    },
    {
      "cell_type": "code",
      "metadata": {
        "id": "lCCNC1PhQwk2",
        "colab_type": "code",
        "colab": {
          "base_uri": "https://localhost:8080/",
          "height": 35
        },
        "outputId": "6253f071-d9f3-4f04-83e8-8e3886708be7"
      },
      "source": [
        "(1*sum(list(cost_per_record)))"
      ],
      "execution_count": null,
      "outputs": [
        {
          "output_type": "execute_result",
          "data": {
            "text/plain": [
              "75182.63452721691"
            ]
          },
          "metadata": {
            "tags": []
          },
          "execution_count": 54
        }
      ]
    },
    {
      "cell_type": "code",
      "metadata": {
        "id": "A3TJI3WM7Jzq",
        "colab_type": "code",
        "colab": {}
      },
      "source": [
        "cost_per_record = (y_test_array*((base_pred_test*0) + ((1-base_pred_test)*fn_cost_array_test))) + ((1-y_test_array)*((base_pred_test*fp_cost_array_test) + ((1-base_pred_test)*0)))"
      ],
      "execution_count": null,
      "outputs": []
    },
    {
      "cell_type": "code",
      "metadata": {
        "id": "tzXZp6Hd7Jqz",
        "colab_type": "code",
        "colab": {
          "base_uri": "https://localhost:8080/",
          "height": 35
        },
        "outputId": "a424a6b1-8d52-43bf-ae42-ffcf76a25d60"
      },
      "source": [
        "(1*sum(list(cost_per_record)))"
      ],
      "execution_count": null,
      "outputs": [
        {
          "output_type": "execute_result",
          "data": {
            "text/plain": [
              "21355.807275696996"
            ]
          },
          "metadata": {
            "tags": []
          },
          "execution_count": 56
        }
      ]
    },
    {
      "cell_type": "markdown",
      "metadata": {
        "id": "I92CjGATRK5R",
        "colab_type": "text"
      },
      "source": [
        "##Logisstic Regression"
      ]
    },
    {
      "cell_type": "code",
      "metadata": {
        "id": "9z8KBJhfQyG-",
        "colab_type": "code",
        "colab": {}
      },
      "source": [
        "from sklearn.linear_model import LogisticRegression\n",
        "from sklearn.metrics import classification_report, confusion_matrix"
      ],
      "execution_count": null,
      "outputs": []
    },
    {
      "cell_type": "code",
      "metadata": {
        "id": "5ePVNZP_RNck",
        "colab_type": "code",
        "colab": {}
      },
      "source": [
        "lr = LogisticRegression(penalty = \"none\", n_jobs = -1)"
      ],
      "execution_count": null,
      "outputs": []
    },
    {
      "cell_type": "code",
      "metadata": {
        "id": "cXAztwXJRPhU",
        "colab_type": "code",
        "colab": {}
      },
      "source": [
        "lr_model = lr.fit(X_train, y_train)"
      ],
      "execution_count": null,
      "outputs": []
    },
    {
      "cell_type": "code",
      "metadata": {
        "id": "mBpo6WTFRRKM",
        "colab_type": "code",
        "colab": {
          "base_uri": "https://localhost:8080/",
          "height": 141
        },
        "outputId": "3002f037-551e-4294-fbbf-6efabb595552"
      },
      "source": [
        "lr_model.predict_proba(X_train)"
      ],
      "execution_count": null,
      "outputs": [
        {
          "output_type": "execute_result",
          "data": {
            "text/plain": [
              "array([[0.97980227, 0.02019773],\n",
              "       [0.78529606, 0.21470394],\n",
              "       [0.99757345, 0.00242655],\n",
              "       ...,\n",
              "       [0.97543846, 0.02456154],\n",
              "       [0.92811879, 0.07188121],\n",
              "       [0.92099418, 0.07900582]])"
            ]
          },
          "metadata": {
            "tags": []
          },
          "execution_count": 83
        }
      ]
    },
    {
      "cell_type": "code",
      "metadata": {
        "id": "_hjPMz3bRS1X",
        "colab_type": "code",
        "colab": {
          "base_uri": "https://localhost:8080/",
          "height": 177
        },
        "outputId": "5df46f43-338b-4f4a-f967-068119a993a2"
      },
      "source": [
        "lr_pred = lr_model.predict(X_train)\n",
        "print(classification_report(y_train, lr_pred))"
      ],
      "execution_count": null,
      "outputs": [
        {
          "output_type": "stream",
          "text": [
            "              precision    recall  f1-score   support\n",
            "\n",
            "           0       0.90      0.98      0.94      8367\n",
            "           1       0.75      0.40      0.52      1497\n",
            "\n",
            "    accuracy                           0.89      9864\n",
            "   macro avg       0.83      0.69      0.73      9864\n",
            "weighted avg       0.88      0.89      0.87      9864\n",
            "\n"
          ],
          "name": "stdout"
        }
      ]
    },
    {
      "cell_type": "code",
      "metadata": {
        "id": "YqmZ7wKjRU2Z",
        "colab_type": "code",
        "colab": {}
      },
      "source": [
        "cost_per_record = (y_train_array*((lr_pred*0) + ((1-lr_pred)*fn_cost_array))) + ((1-y_train_array)*((lr_pred*fp_cost_array) + ((1-lr_pred)*0)))"
      ],
      "execution_count": null,
      "outputs": []
    },
    {
      "cell_type": "code",
      "metadata": {
        "id": "kMrhrtLaRWxi",
        "colab_type": "code",
        "colab": {
          "base_uri": "https://localhost:8080/",
          "height": 35
        },
        "outputId": "fe3c3c46-9e8f-4d41-d8d8-c3f4859d964d"
      },
      "source": [
        "(1*sum(list(cost_per_record)))"
      ],
      "execution_count": null,
      "outputs": [
        {
          "output_type": "execute_result",
          "data": {
            "text/plain": [
              "54056.93731382107"
            ]
          },
          "metadata": {
            "tags": []
          },
          "execution_count": 89
        }
      ]
    },
    {
      "cell_type": "code",
      "metadata": {
        "id": "WZVZgm1ARgUm",
        "colab_type": "code",
        "colab": {
          "base_uri": "https://localhost:8080/",
          "height": 52
        },
        "outputId": "aacb3250-222e-45c5-c637-1142f6107384"
      },
      "source": [
        "confusion_matrix(y_train, lr_pred)"
      ],
      "execution_count": null,
      "outputs": [
        {
          "output_type": "execute_result",
          "data": {
            "text/plain": [
              "array([[8173,  194],\n",
              "       [ 903,  594]])"
            ]
          },
          "metadata": {
            "tags": []
          },
          "execution_count": 92
        }
      ]
    },
    {
      "cell_type": "code",
      "metadata": {
        "id": "JYjK4B1ERiyL",
        "colab_type": "code",
        "colab": {}
      },
      "source": [
        "lr = LogisticRegression(penalty = \"none\", n_jobs = -1, class_weight='balanced')"
      ],
      "execution_count": null,
      "outputs": []
    },
    {
      "cell_type": "code",
      "metadata": {
        "id": "BNf04apPRniz",
        "colab_type": "code",
        "colab": {}
      },
      "source": [
        "lr_model_balanced = lr.fit(X_train, y_train)"
      ],
      "execution_count": null,
      "outputs": []
    },
    {
      "cell_type": "code",
      "metadata": {
        "id": "9Sw01oqERp9e",
        "colab_type": "code",
        "colab": {
          "base_uri": "https://localhost:8080/",
          "height": 177
        },
        "outputId": "aecdd31d-207e-4b52-85f9-15f6a4aaccad"
      },
      "source": [
        "lr_balanced_pred = lr_model_balanced.predict(X_train)\n",
        "print(classification_report(y_train, lr_balanced_pred))"
      ],
      "execution_count": null,
      "outputs": [
        {
          "output_type": "stream",
          "text": [
            "              precision    recall  f1-score   support\n",
            "\n",
            "           0       0.96      0.86      0.91      8367\n",
            "           1       0.51      0.78      0.61      1497\n",
            "\n",
            "    accuracy                           0.85      9864\n",
            "   macro avg       0.73      0.82      0.76      9864\n",
            "weighted avg       0.89      0.85      0.86      9864\n",
            "\n"
          ],
          "name": "stdout"
        }
      ]
    },
    {
      "cell_type": "code",
      "metadata": {
        "id": "A1B2Hq5wRr1p",
        "colab_type": "code",
        "colab": {}
      },
      "source": [
        "cost_per_record = (y_train_array*((lr_balanced_pred*0) + ((1-lr_balanced_pred)*fn_cost_array))) + ((1-y_train_array)*((lr_balanced_pred*fp_cost_array) + ((1-lr_balanced_pred)*0)))"
      ],
      "execution_count": null,
      "outputs": []
    },
    {
      "cell_type": "code",
      "metadata": {
        "id": "3EdUAGlcRvJJ",
        "colab_type": "code",
        "colab": {
          "base_uri": "https://localhost:8080/",
          "height": 35
        },
        "outputId": "3911f5f7-13e0-46e0-c6ce-e624cfcd4d0c"
      },
      "source": [
        "(1*sum(list(cost_per_record)))"
      ],
      "execution_count": null,
      "outputs": [
        {
          "output_type": "execute_result",
          "data": {
            "text/plain": [
              "71554.07818853795"
            ]
          },
          "metadata": {
            "tags": []
          },
          "execution_count": 97
        }
      ]
    },
    {
      "cell_type": "code",
      "metadata": {
        "id": "4GQUBOwh8QWF",
        "colab_type": "code",
        "colab": {}
      },
      "source": [
        "lr_balanced_pred_test = lr_model_balanced.predict(X_test)"
      ],
      "execution_count": null,
      "outputs": []
    },
    {
      "cell_type": "code",
      "metadata": {
        "id": "uv82btTq8QEt",
        "colab_type": "code",
        "colab": {}
      },
      "source": [
        "cost_per_record = (y_test_array*((lr_balanced_pred_test*0) + ((1-lr_balanced_pred_test)*fn_cost_array_test))) + ((1-y_test_array)*((lr_balanced_pred_test*fp_cost_array_test) + ((1-lr_balanced_pred_test)*0)))"
      ],
      "execution_count": null,
      "outputs": []
    },
    {
      "cell_type": "code",
      "metadata": {
        "id": "FNVRnraX8eqQ",
        "colab_type": "code",
        "colab": {
          "base_uri": "https://localhost:8080/",
          "height": 35
        },
        "outputId": "bf671232-ea83-4d3a-a2d6-2f2d727cf764"
      },
      "source": [
        "(1*sum(list(cost_per_record)))"
      ],
      "execution_count": null,
      "outputs": [
        {
          "output_type": "execute_result",
          "data": {
            "text/plain": [
              "18478.08641453099"
            ]
          },
          "metadata": {
            "tags": []
          },
          "execution_count": 66
        }
      ]
    },
    {
      "cell_type": "code",
      "metadata": {
        "id": "y7jFMWr9RykY",
        "colab_type": "code",
        "colab": {
          "base_uri": "https://localhost:8080/",
          "height": 52
        },
        "outputId": "d1257461-ddb0-4cf9-fb9c-7dcdf6c900cc"
      },
      "source": [
        "confusion_matrix(y_train, lr_balanced_pred)"
      ],
      "execution_count": null,
      "outputs": [
        {
          "output_type": "execute_result",
          "data": {
            "text/plain": [
              "array([[7234, 1133],\n",
              "       [ 335, 1162]])"
            ]
          },
          "metadata": {
            "tags": []
          },
          "execution_count": 98
        }
      ]
    },
    {
      "cell_type": "code",
      "metadata": {
        "id": "SfVksy6nR0k5",
        "colab_type": "code",
        "colab": {}
      },
      "source": [
        "lr_balanced_pred_test = lr_model_balanced.predict(X_test)"
      ],
      "execution_count": null,
      "outputs": []
    },
    {
      "cell_type": "code",
      "metadata": {
        "id": "NJRfAZ6zR1-7",
        "colab_type": "code",
        "colab": {}
      },
      "source": [
        "cost_per_record = (y_test_array*((lr_balanced_pred_test*0) + ((1-lr_balanced_pred_test)*fn_cost_array_test))) + ((1-y_test_array)*((lr_balanced_pred_test*fp_cost_array_test) + ((1-lr_balanced_pred_test)*0)))"
      ],
      "execution_count": null,
      "outputs": []
    },
    {
      "cell_type": "code",
      "metadata": {
        "id": "1lUtnHgVR30L",
        "colab_type": "code",
        "colab": {
          "base_uri": "https://localhost:8080/",
          "height": 35
        },
        "outputId": "c3e2303c-fd7a-4031-97a7-3f94a0cf0ba0"
      },
      "source": [
        "(1*sum(list(cost_per_record)))"
      ],
      "execution_count": null,
      "outputs": [
        {
          "output_type": "execute_result",
          "data": {
            "text/plain": [
              "18478.08641453099"
            ]
          },
          "metadata": {
            "tags": []
          },
          "execution_count": 101
        }
      ]
    },
    {
      "cell_type": "code",
      "metadata": {
        "id": "Zn4PMXJIR5FJ",
        "colab_type": "code",
        "colab": {}
      },
      "source": [
        ""
      ],
      "execution_count": null,
      "outputs": []
    },
    {
      "cell_type": "markdown",
      "metadata": {
        "id": "uPGvUI8tR9aD",
        "colab_type": "text"
      },
      "source": [
        "##CSLR"
      ]
    },
    {
      "cell_type": "code",
      "metadata": {
        "id": "K4qbUcx1R-SU",
        "colab_type": "code",
        "colab": {
          "base_uri": "https://localhost:8080/",
          "height": 248
        },
        "outputId": "ced93ac1-69c7-4adb-ec57-a1b1a5e0138b"
      },
      "source": [
        "!pip install geneticalgorithm\n",
        "from geneticalgorithm import geneticalgorithm as ga"
      ],
      "execution_count": null,
      "outputs": [
        {
          "output_type": "stream",
          "text": [
            "Collecting geneticalgorithm\n",
            "  Downloading https://files.pythonhosted.org/packages/d3/ab/e62b94f9baa4b27bb45b1cc9ae315ecaee53ca96c16da5c4ad18e00dd45b/geneticalgorithm-1.0.1-py3-none-any.whl\n",
            "Requirement already satisfied: numpy in /usr/local/lib/python3.6/dist-packages (from geneticalgorithm) (1.18.5)\n",
            "Collecting func-timeout\n",
            "\u001b[?25l  Downloading https://files.pythonhosted.org/packages/b3/0d/bf0567477f7281d9a3926c582bfef21bff7498fc0ffd3e9de21811896a0b/func_timeout-4.3.5.tar.gz (44kB)\n",
            "\u001b[K     |████████████████████████████████| 51kB 2.6MB/s \n",
            "\u001b[?25hBuilding wheels for collected packages: func-timeout\n",
            "  Building wheel for func-timeout (setup.py) ... \u001b[?25l\u001b[?25hdone\n",
            "  Created wheel for func-timeout: filename=func_timeout-4.3.5-cp36-none-any.whl size=15078 sha256=691a4953d73b4f0d150a7a328fc882cbd97c3a71965b18d6b66136787df5a26d\n",
            "  Stored in directory: /root/.cache/pip/wheels/46/7c/4f/24f1d2d5bbff92219debe7ea19af84f76ddeb90dd4ec544f26\n",
            "Successfully built func-timeout\n",
            "Installing collected packages: func-timeout, geneticalgorithm\n",
            "Successfully installed func-timeout-4.3.5 geneticalgorithm-1.0.1\n"
          ],
          "name": "stdout"
        }
      ]
    },
    {
      "cell_type": "code",
      "metadata": {
        "id": "Ix6kqdVdSD6S",
        "colab_type": "code",
        "colab": {}
      },
      "source": [
        "X_train_array = np.array(X_train)\n",
        "X_train_array = np.abs(np.concatenate((np.ones((X_train.shape[0], 1)), X_train_array), axis=1))"
      ],
      "execution_count": null,
      "outputs": []
    },
    {
      "cell_type": "code",
      "metadata": {
        "id": "iTlRDsrSSFbs",
        "colab_type": "code",
        "colab": {}
      },
      "source": [
        "X_test_array = np.array(X_test)\n",
        "X_test_array = np.abs(np.concatenate((np.ones((X_test.shape[0], 1)), X_test_array), axis=1))"
      ],
      "execution_count": null,
      "outputs": []
    },
    {
      "cell_type": "code",
      "metadata": {
        "id": "mVvXNzacSHCD",
        "colab_type": "code",
        "colab": {}
      },
      "source": [
        "y_train_array = np.array(y_train)"
      ],
      "execution_count": null,
      "outputs": []
    },
    {
      "cell_type": "code",
      "metadata": {
        "id": "zXrdxU1fSK8X",
        "colab_type": "code",
        "colab": {}
      },
      "source": [
        "def logreg(X_train, X):\n",
        "  pred = np.matmul(X_train, X)\n",
        "  pred = 1/(1+np.exp(-pred))\n",
        "\n",
        "  return pred"
      ],
      "execution_count": null,
      "outputs": []
    },
    {
      "cell_type": "code",
      "metadata": {
        "id": "KWtND3xCSMil",
        "colab_type": "code",
        "colab": {}
      },
      "source": [
        "def f(X):\n",
        "  output = logreg(X_train_array, X)\n",
        "  output= np.round(output)\n",
        "  cost_per_record = y_train_array*((output*0) + ((1-output)*fn_cost_array)) + ((1-y_train_array)*((output*fp_cost_array) + ((1-output)*0)))\n",
        "\n",
        "  return (1*sum(list(cost_per_record)))"
      ],
      "execution_count": null,
      "outputs": []
    },
    {
      "cell_type": "code",
      "metadata": {
        "id": "1Tcuh1vgSN1u",
        "colab_type": "code",
        "colab": {}
      },
      "source": [
        "algorithm_param = {'max_num_iteration': 500,\\\n",
        "                   'population_size':100,\\\n",
        "                   'mutation_probability':0.40,\\\n",
        "                   'elit_ratio': 0.3,\\\n",
        "                   'crossover_probability': 0.5,\\\n",
        "                   'parents_portion': 0.4,\\\n",
        "                   'crossover_type':'uniform',\\\n",
        "                   'max_iteration_without_improv':None}"
      ],
      "execution_count": null,
      "outputs": []
    },
    {
      "cell_type": "code",
      "metadata": {
        "id": "xMLpWLYkSPFV",
        "colab_type": "code",
        "colab": {}
      },
      "source": [
        "varbound=np.array([[-100,100]]*69)\n",
        "model=ga(function=f,\\\n",
        "            dimension=69,\\\n",
        "            variable_type='real',\\\n",
        "            variable_boundaries=varbound,\\\n",
        "            algorithm_parameters=algorithm_param)"
      ],
      "execution_count": null,
      "outputs": []
    },
    {
      "cell_type": "code",
      "metadata": {
        "id": "G2Py8TJPSQbK",
        "colab_type": "code",
        "colab": {
          "base_uri": "https://localhost:8080/",
          "height": 651
        },
        "outputId": "5d84b489-93b7-41b6-99f5-547e6ab98bd2"
      },
      "source": [
        "model.run()"
      ],
      "execution_count": null,
      "outputs": [
        {
          "output_type": "stream",
          "text": [
            "/usr/local/lib/python3.6/dist-packages/ipykernel_launcher.py:3: RuntimeWarning: overflow encountered in exp\n",
            "  This is separate from the ipykernel package so we can avoid doing imports until\n"
          ],
          "name": "stderr"
        },
        {
          "output_type": "stream",
          "text": [
            " The best solution found:\n",
            " [-77.87621053 -17.66138588  -9.45420617  -2.84912408 -25.64216335\n",
            "   1.00276054 -31.04223366 -39.30678991   9.36658485  96.40968896\n",
            " -27.40153553   5.4371724  -39.937056    30.12243346  21.42888462\n",
            "  27.34690328  30.67179013  36.28229282  39.52408894  37.23879486\n",
            " -65.43298712 -19.67090839  19.52133023   4.12713905  25.48549354\n",
            "   8.49237041  34.5258578  -28.07931835  25.39678775   5.61849248\n",
            "  11.40667564  25.81842041  12.62156068   7.99764903  -5.63933607\n",
            "   1.18020676 -46.45899958 -23.42442977 -71.93574584  57.94147049\n",
            "  11.83176217 -32.7204108  -28.00920001  -4.73221637  -1.24373965\n",
            "   3.5424791  -43.56303247   4.61951777 -18.59279912  15.77223498\n",
            "   8.94468482 -12.80864041  -3.02321658 -40.61167619  -2.71479523\n",
            "  14.5237742  -36.19026516  30.43968349 -36.77634456 -95.8222981\n",
            "  11.66850461  76.06247122  37.57878757  26.77389761 -32.30014516\n",
            " -22.07485559  26.09337236   8.04508895   9.89629573]\n",
            "\n",
            " Objective function:\n",
            " 52618.40652809505\n"
          ],
          "name": "stdout"
        },
        {
          "output_type": "display_data",
          "data": {
            "image/png": "[encoded data removed]",
            "text/plain": [
              "<Figure size 432x288 with 1 Axes>"
            ]
          },
          "metadata": {
            "tags": [],
            "needs_background": "light"
          }
        }
      ]
    },
    {
      "cell_type": "code",
      "metadata": {
        "id": "EjaWhTOrSUNo",
        "colab_type": "code",
        "colab": {}
      },
      "source": [
        "coefficients = model.output_dict['variable']"
      ],
      "execution_count": null,
      "outputs": []
    },
    {
      "cell_type": "code",
      "metadata": {
        "id": "Z9AkzxCmSWaA",
        "colab_type": "code",
        "colab": {
          "base_uri": "https://localhost:8080/",
          "height": 106
        },
        "outputId": "537d135d-4ea3-4973-e05b-138528989ffc"
      },
      "source": [
        "cslr_pred = logreg(X_train_array, coefficients)\n",
        "cslr_pred[1:10]"
      ],
      "execution_count": null,
      "outputs": [
        {
          "output_type": "stream",
          "text": [
            "/usr/local/lib/python3.6/dist-packages/ipykernel_launcher.py:3: RuntimeWarning: overflow encountered in exp\n",
            "  This is separate from the ipykernel package so we can avoid doing imports until\n"
          ],
          "name": "stderr"
        },
        {
          "output_type": "execute_result",
          "data": {
            "text/plain": [
              "array([1.24518858e-29, 1.03012889e-78, 9.70110376e-48, 1.09629085e-35,\n",
              "       6.19316395e-38, 1.00000000e+00, 3.70749826e-11, 2.66218130e-26,\n",
              "       6.63228977e-39])"
            ]
          },
          "metadata": {
            "tags": []
          },
          "execution_count": 120
        }
      ]
    },
    {
      "cell_type": "code",
      "metadata": {
        "id": "MAHLgxtPSXxf",
        "colab_type": "code",
        "colab": {}
      },
      "source": [
        "cslr_pred = np.round(cslr_pred)"
      ],
      "execution_count": null,
      "outputs": []
    },
    {
      "cell_type": "code",
      "metadata": {
        "id": "717Yil_ySZEF",
        "colab_type": "code",
        "colab": {
          "base_uri": "https://localhost:8080/",
          "height": 177
        },
        "outputId": "9688aa64-68a8-4835-fef3-68803f30fc6e"
      },
      "source": [
        "print(classification_report(y_train, cslr_pred))"
      ],
      "execution_count": null,
      "outputs": [
        {
          "output_type": "stream",
          "text": [
            "              precision    recall  f1-score   support\n",
            "\n",
            "           0       0.90      0.98      0.94      8367\n",
            "           1       0.78      0.39      0.52      1497\n",
            "\n",
            "    accuracy                           0.89      9864\n",
            "   macro avg       0.84      0.68      0.73      9864\n",
            "weighted avg       0.88      0.89      0.87      9864\n",
            "\n"
          ],
          "name": "stdout"
        }
      ]
    },
    {
      "cell_type": "code",
      "metadata": {
        "id": "dx1_HtlgSoN-",
        "colab_type": "code",
        "colab": {}
      },
      "source": [
        "cost_per_record = (y_train_array*((cslr_pred*0) + ((1-cslr_pred)*fn_cost_array))) + ((1-y_train_array)*((cslr_pred*fp_cost_array) + ((1-cslr_pred)*0)))"
      ],
      "execution_count": null,
      "outputs": []
    },
    {
      "cell_type": "code",
      "metadata": {
        "id": "wgADZ9BsSoT-",
        "colab_type": "code",
        "colab": {
          "base_uri": "https://localhost:8080/",
          "height": 35
        },
        "outputId": "655fa506-c664-4014-9528-5b8fb96882fb"
      },
      "source": [
        "(1*sum(list(cost_per_record)))"
      ],
      "execution_count": null,
      "outputs": [
        {
          "output_type": "execute_result",
          "data": {
            "text/plain": [
              "52618.40652809505"
            ]
          },
          "metadata": {
            "tags": []
          },
          "execution_count": 124
        }
      ]
    },
    {
      "cell_type": "code",
      "metadata": {
        "id": "Lu64dVleSoJr",
        "colab_type": "code",
        "colab": {
          "base_uri": "https://localhost:8080/",
          "height": 52
        },
        "outputId": "db42c4ea-fd1a-449a-83ca-c5be3abf75f7"
      },
      "source": [
        "confusion_matrix(y_train, cslr_pred)"
      ],
      "execution_count": null,
      "outputs": [
        {
          "output_type": "execute_result",
          "data": {
            "text/plain": [
              "array([[8200,  167],\n",
              "       [ 914,  583]])"
            ]
          },
          "metadata": {
            "tags": []
          },
          "execution_count": 125
        }
      ]
    },
    {
      "cell_type": "code",
      "metadata": {
        "id": "qa10mRfdSsih",
        "colab_type": "code",
        "colab": {
          "base_uri": "https://localhost:8080/",
          "height": 106
        },
        "outputId": "0fcf6d96-293c-4fc6-a420-a9ffee8fef10"
      },
      "source": [
        "cslr_pred_test = logreg(X_test_array, coefficients)\n",
        "cslr_pred_test[1:10]"
      ],
      "execution_count": null,
      "outputs": [
        {
          "output_type": "stream",
          "text": [
            "/usr/local/lib/python3.6/dist-packages/ipykernel_launcher.py:3: RuntimeWarning: overflow encountered in exp\n",
            "  This is separate from the ipykernel package so we can avoid doing imports until\n"
          ],
          "name": "stderr"
        },
        {
          "output_type": "execute_result",
          "data": {
            "text/plain": [
              "array([1.95763286e-067, 3.41748672e-055, 5.55980236e-001, 2.24312262e-171,\n",
              "       2.98961711e-031, 3.03780658e-049, 1.50786151e-032, 1.00000000e+000,\n",
              "       5.34714341e-043])"
            ]
          },
          "metadata": {
            "tags": []
          },
          "execution_count": 126
        }
      ]
    },
    {
      "cell_type": "code",
      "metadata": {
        "id": "w4_w1TmJSuh6",
        "colab_type": "code",
        "colab": {}
      },
      "source": [
        "cslr_pred_test = np.round(cslr_pred_test)"
      ],
      "execution_count": null,
      "outputs": []
    },
    {
      "cell_type": "code",
      "metadata": {
        "id": "FQkwOMmSKKE2",
        "colab_type": "code",
        "colab": {}
      },
      "source": [
        "cost_per_record = (y_test_array*((cslr_pred_test*0) + ((1-cslr_pred_test)*fn_cost_array_test))) + ((1-y_test_array)*((cslr_pred_test*fp_cost_array_test) + ((1-cslr_pred_test)*0)))"
      ],
      "execution_count": null,
      "outputs": []
    },
    {
      "cell_type": "code",
      "metadata": {
        "id": "rN8AhJS-KaA9",
        "colab_type": "code",
        "colab": {
          "base_uri": "https://localhost:8080/",
          "height": 35
        },
        "outputId": "02eb24f5-c524-492b-ff0a-9373594b5b4a"
      },
      "source": [
        "(1*sum(list(cost_per_record)))"
      ],
      "execution_count": null,
      "outputs": [
        {
          "output_type": "execute_result",
          "data": {
            "text/plain": [
              "16842.54181007199"
            ]
          },
          "metadata": {
            "tags": []
          },
          "execution_count": 129
        }
      ]
    },
    {
      "cell_type": "code",
      "metadata": {
        "id": "tja8RC2eUF9M",
        "colab_type": "code",
        "colab": {}
      },
      "source": [
        ""
      ],
      "execution_count": null,
      "outputs": []
    },
    {
      "cell_type": "markdown",
      "metadata": {
        "id": "Z0rNliyQUPc3",
        "colab_type": "text"
      },
      "source": [
        "##Decision Tree"
      ]
    },
    {
      "cell_type": "code",
      "metadata": {
        "id": "XmnJNjWuUSGA",
        "colab_type": "code",
        "colab": {}
      },
      "source": [
        "from sklearn.tree import DecisionTreeClassifier"
      ],
      "execution_count": null,
      "outputs": []
    },
    {
      "cell_type": "code",
      "metadata": {
        "id": "NsaUIgKmUTmj",
        "colab_type": "code",
        "colab": {}
      },
      "source": [
        "dtc = DecisionTreeClassifier(random_state=42)"
      ],
      "execution_count": null,
      "outputs": []
    },
    {
      "cell_type": "code",
      "metadata": {
        "id": "XiJ5zSDwuPIg",
        "colab_type": "code",
        "colab": {}
      },
      "source": [
        "dt_model = dtc.fit(X_train, y_train)"
      ],
      "execution_count": null,
      "outputs": []
    },
    {
      "cell_type": "code",
      "metadata": {
        "id": "9PvQXlYuvIoC",
        "colab_type": "code",
        "colab": {}
      },
      "source": [
        "dt_pred = dt_model.predict(X_test)"
      ],
      "execution_count": null,
      "outputs": []
    },
    {
      "cell_type": "code",
      "metadata": {
        "id": "KS35nTMNUk_F",
        "colab_type": "code",
        "colab": {
          "base_uri": "https://localhost:8080/",
          "height": 35
        },
        "outputId": "43132bc0-7c5c-4b6e-b71f-dafbfd93ff0b"
      },
      "source": [
        "dt_pred.shape"
      ],
      "execution_count": null,
      "outputs": [
        {
          "output_type": "execute_result",
          "data": {
            "text/plain": [
              "(2466,)"
            ]
          },
          "metadata": {
            "tags": []
          },
          "execution_count": 44
        }
      ]
    },
    {
      "cell_type": "code",
      "metadata": {
        "colab_type": "code",
        "id": "DsoSaQx5vVoL",
        "colab": {}
      },
      "source": [
        "cost_per_record = (y_test_array*((dt_pred*0) + ((1-dt_pred)*fn_cost_array_test))) + ((1-y_test_array)*((dt_pred*fp_cost_array_test) + ((1-dt_pred)*0)))"
      ],
      "execution_count": null,
      "outputs": []
    },
    {
      "cell_type": "code",
      "metadata": {
        "colab_type": "code",
        "id": "JaYU8XKFvVoP",
        "colab": {
          "base_uri": "https://localhost:8080/",
          "height": 35
        },
        "outputId": "99167ae4-b368-4bc6-bfd2-0d705c1e59da"
      },
      "source": [
        "(1*sum(list(cost_per_record)))"
      ],
      "execution_count": null,
      "outputs": [
        {
          "output_type": "execute_result",
          "data": {
            "text/plain": [
              "18637.141633255"
            ]
          },
          "metadata": {
            "tags": []
          },
          "execution_count": 46
        }
      ]
    },
    {
      "cell_type": "code",
      "metadata": {
        "id": "qs4Nr3rVvpnA",
        "colab_type": "code",
        "colab": {
          "base_uri": "https://localhost:8080/",
          "height": 35
        },
        "outputId": "1cdef278-cd78-4c2f-849f-7d0cdfbdec39"
      },
      "source": [
        "dt_pred[1:10]"
      ],
      "execution_count": null,
      "outputs": [
        {
          "output_type": "execute_result",
          "data": {
            "text/plain": [
              "array([0, 0, 1, 0, 0, 0, 0, 1, 0], dtype=uint8)"
            ]
          },
          "metadata": {
            "tags": []
          },
          "execution_count": 139
        }
      ]
    },
    {
      "cell_type": "code",
      "metadata": {
        "id": "uOB22EBevrLa",
        "colab_type": "code",
        "colab": {
          "base_uri": "https://localhost:8080/",
          "height": 177
        },
        "outputId": "498ede0b-bd27-424b-8fda-064802181504"
      },
      "source": [
        "print(classification_report(y_test,dt_pred))"
      ],
      "execution_count": null,
      "outputs": [
        {
          "output_type": "stream",
          "text": [
            "              precision    recall  f1-score   support\n",
            "\n",
            "           0       0.91      0.91      0.91      2055\n",
            "           1       0.55      0.57      0.56       411\n",
            "\n",
            "    accuracy                           0.85      2466\n",
            "   macro avg       0.73      0.74      0.73      2466\n",
            "weighted avg       0.85      0.85      0.85      2466\n",
            "\n"
          ],
          "name": "stdout"
        }
      ]
    },
    {
      "cell_type": "code",
      "metadata": {
        "colab_type": "code",
        "id": "C9fn1gCiwIgc",
        "colab": {}
      },
      "source": [
        "cost_per_record = (y_test_array*((dt_pred*0) + ((1-dt_pred)*fn_cost_array_test))) + ((1-y_test_array)*((dt_pred*fp_cost_array_test) + ((1-dt_pred)*0)))"
      ],
      "execution_count": null,
      "outputs": []
    },
    {
      "cell_type": "code",
      "metadata": {
        "colab_type": "code",
        "id": "zRToH6WSwIgg",
        "colab": {
          "base_uri": "https://localhost:8080/",
          "height": 35
        },
        "outputId": "417fe388-0932-4233-f257-8f8e2d0c4d46"
      },
      "source": [
        "(1*sum(list(cost_per_record)))"
      ],
      "execution_count": null,
      "outputs": [
        {
          "output_type": "execute_result",
          "data": {
            "text/plain": [
              "18637.141633255"
            ]
          },
          "metadata": {
            "tags": []
          },
          "execution_count": 142
        }
      ]
    },
    {
      "cell_type": "code",
      "metadata": {
        "id": "skWZuSxFUU7q",
        "colab_type": "code",
        "colab": {}
      },
      "source": [
        ""
      ],
      "execution_count": null,
      "outputs": []
    },
    {
      "cell_type": "markdown",
      "metadata": {
        "id": "_XDv4HzSzU3u",
        "colab_type": "text"
      },
      "source": [
        "##Random Forest"
      ]
    },
    {
      "cell_type": "code",
      "metadata": {
        "id": "GwWIvqCPzWD0",
        "colab_type": "code",
        "colab": {}
      },
      "source": [
        "from sklearn.ensemble import RandomForestClassifier\n",
        "from sklearn.model_selection import GridSearchCV, RandomizedSearchCV"
      ],
      "execution_count": null,
      "outputs": []
    },
    {
      "cell_type": "code",
      "metadata": {
        "id": "xRTthMcvzcbu",
        "colab_type": "code",
        "colab": {}
      },
      "source": [
        "rfc = RandomForestClassifier(random_state=42, class_weight = \"balanced_subsample\")"
      ],
      "execution_count": null,
      "outputs": []
    },
    {
      "cell_type": "code",
      "metadata": {
        "id": "Fikm4LKTzfCn",
        "colab_type": "code",
        "colab": {}
      },
      "source": [
        "rfc_model = rfc.fit(X_train, y_train)"
      ],
      "execution_count": null,
      "outputs": []
    },
    {
      "cell_type": "code",
      "metadata": {
        "id": "VkUpCmhH2Zic",
        "colab_type": "code",
        "colab": {}
      },
      "source": [
        "rfc_pred = rfc_model.predict(X_train)"
      ],
      "execution_count": null,
      "outputs": []
    },
    {
      "cell_type": "code",
      "metadata": {
        "colab_type": "code",
        "id": "f0W2JOX92i9d",
        "colab": {}
      },
      "source": [
        "cost_per_record = (y_train_array*((rfc_pred*0) + ((1-rfc_pred)*fn_cost_array))) + ((1-y_train_array)*((rfc_pred*fp_cost_array) + ((1-rfc_pred)*0)))"
      ],
      "execution_count": null,
      "outputs": []
    },
    {
      "cell_type": "code",
      "metadata": {
        "colab_type": "code",
        "id": "Z8bieKkM2i9h",
        "colab": {
          "base_uri": "https://localhost:8080/",
          "height": 35
        },
        "outputId": "b223aa3e-bfa2-48ed-b82e-ea71f8214ad9"
      },
      "source": [
        "(1*sum(list(cost_per_record)))"
      ],
      "execution_count": null,
      "outputs": [
        {
          "output_type": "execute_result",
          "data": {
            "text/plain": [
              "47.12893197"
            ]
          },
          "metadata": {
            "tags": []
          },
          "execution_count": 148
        }
      ]
    },
    {
      "cell_type": "code",
      "metadata": {
        "id": "4_keweJa3XH8",
        "colab_type": "code",
        "colab": {
          "base_uri": "https://localhost:8080/",
          "height": 177
        },
        "outputId": "ba0b49c1-a06d-41ee-a64d-c72ec66fe116"
      },
      "source": [
        "print(classification_report(y_train, rfc_pred))"
      ],
      "execution_count": null,
      "outputs": [
        {
          "output_type": "stream",
          "text": [
            "              precision    recall  f1-score   support\n",
            "\n",
            "           0       1.00      1.00      1.00      8367\n",
            "           1       1.00      1.00      1.00      1497\n",
            "\n",
            "    accuracy                           1.00      9864\n",
            "   macro avg       1.00      1.00      1.00      9864\n",
            "weighted avg       1.00      1.00      1.00      9864\n",
            "\n"
          ],
          "name": "stdout"
        }
      ]
    },
    {
      "cell_type": "code",
      "metadata": {
        "id": "fwRyeHWA3i49",
        "colab_type": "code",
        "colab": {}
      },
      "source": [
        "rfc_pred_test = rfc_model.predict(X_test)"
      ],
      "execution_count": null,
      "outputs": []
    },
    {
      "cell_type": "code",
      "metadata": {
        "colab_type": "code",
        "id": "D6vsGNoM3qou",
        "colab": {}
      },
      "source": [
        "cost_per_record = (y_test_array*((rfc_pred_test*0) + ((1-rfc_pred_test)*fn_cost_array_test))) + ((1-y_test_array)*((rfc_pred_test*fp_cost_array_test) + ((1-rfc_pred_test)*0)))"
      ],
      "execution_count": null,
      "outputs": []
    },
    {
      "cell_type": "code",
      "metadata": {
        "colab_type": "code",
        "id": "FCNWugU93qo0",
        "colab": {
          "base_uri": "https://localhost:8080/",
          "height": 35
        },
        "outputId": "36ceae29-aee8-443b-ed6b-43793ce3fa2d"
      },
      "source": [
        "(1*sum(list(cost_per_record)))"
      ],
      "execution_count": null,
      "outputs": [
        {
          "output_type": "execute_result",
          "data": {
            "text/plain": [
              "14279.072809600993"
            ]
          },
          "metadata": {
            "tags": []
          },
          "execution_count": 152
        }
      ]
    },
    {
      "cell_type": "code",
      "metadata": {
        "id": "LCOEUyfg3wcx",
        "colab_type": "code",
        "colab": {
          "base_uri": "https://localhost:8080/",
          "height": 177
        },
        "outputId": "1b48f1c1-12f8-45c2-f6da-e16745e0ee6e"
      },
      "source": [
        "print(classification_report(y_test, rfc_pred_test))"
      ],
      "execution_count": null,
      "outputs": [
        {
          "output_type": "stream",
          "text": [
            "              precision    recall  f1-score   support\n",
            "\n",
            "           0       0.90      0.97      0.93      2055\n",
            "           1       0.75      0.49      0.59       411\n",
            "\n",
            "    accuracy                           0.89      2466\n",
            "   macro avg       0.83      0.73      0.76      2466\n",
            "weighted avg       0.88      0.89      0.88      2466\n",
            "\n"
          ],
          "name": "stdout"
        }
      ]
    },
    {
      "cell_type": "code",
      "metadata": {
        "id": "4Ipr4jTy32IR",
        "colab_type": "code",
        "colab": {}
      },
      "source": [
        "n_estimators = [int(x) for x in np.linspace(start = 100, stop = 400, num = 4)]\n",
        "max_features = ['auto', 'sqrt']\n",
        "max_depth = [int(x) for x in np.linspace(10, 110, num = 5)]\n",
        "max_depth.append(None)\n",
        "min_samples_split = [2, 5, 10]\n",
        "min_samples_leaf = [1, 2, 4]\n",
        "bootstrap = [True, False]\n",
        "class_weight= [\"balanced\", \"balanced_subsample\"]\n",
        "random_grid = {'n_estimators': n_estimators,\n",
        "               'max_features': max_features,\n",
        "               'max_depth': max_depth,\n",
        "               'min_samples_split': min_samples_split,\n",
        "               'min_samples_leaf': min_samples_leaf,\n",
        "               'bootstrap': bootstrap, \n",
        "               'class_weight': class_weight}"
      ],
      "execution_count": null,
      "outputs": []
    },
    {
      "cell_type": "code",
      "metadata": {
        "id": "wxiXj8Bn-2nU",
        "colab_type": "code",
        "colab": {
          "base_uri": "https://localhost:8080/",
          "height": 88
        },
        "outputId": "ea003fa5-f701-4c37-92df-133e673af719"
      },
      "source": [
        "rfc = RandomForestClassifier(random_state=42)\n",
        "rfc_cv = RandomizedSearchCV(rfc,  param_distributions = random_grid, n_iter = 20, cv = 3, verbose=2, random_state=42, n_jobs = -1, scoring = 'f1')\n",
        "rfc_model = rfc_cv.fit(X_train, y_train)"
      ],
      "execution_count": null,
      "outputs": [
        {
          "output_type": "stream",
          "text": [
            "Fitting 3 folds for each of 20 candidates, totalling 60 fits\n"
          ],
          "name": "stdout"
        },
        {
          "output_type": "stream",
          "text": [
            "[Parallel(n_jobs=-1)]: Using backend LokyBackend with 2 concurrent workers.\n",
            "[Parallel(n_jobs=-1)]: Done  37 tasks      | elapsed:  1.1min\n",
            "[Parallel(n_jobs=-1)]: Done  60 out of  60 | elapsed:  1.8min finished\n"
          ],
          "name": "stderr"
        }
      ]
    },
    {
      "cell_type": "code",
      "metadata": {
        "id": "og_saWWN-4Yk",
        "colab_type": "code",
        "colab": {
          "base_uri": "https://localhost:8080/",
          "height": 141
        },
        "outputId": "bb7b3d10-1cac-49a6-e907-550a6161fe90"
      },
      "source": [
        "rfc_model.best_params_"
      ],
      "execution_count": null,
      "outputs": [
        {
          "output_type": "execute_result",
          "data": {
            "text/plain": [
              "{'bootstrap': False,\n",
              " 'class_weight': 'balanced_subsample',\n",
              " 'max_depth': 60,\n",
              " 'max_features': 'sqrt',\n",
              " 'min_samples_leaf': 2,\n",
              " 'min_samples_split': 10,\n",
              " 'n_estimators': 300}"
            ]
          },
          "metadata": {
            "tags": []
          },
          "execution_count": 156
        }
      ]
    },
    {
      "cell_type": "code",
      "metadata": {
        "id": "ReBw0w5fCGrx",
        "colab_type": "code",
        "colab": {
          "base_uri": "https://localhost:8080/",
          "height": 35
        },
        "outputId": "3f5c9159-4b61-4f98-b66f-f93426ede1db"
      },
      "source": [
        "rfc_model.best_estimator_.score(X_train, y_train)"
      ],
      "execution_count": null,
      "outputs": [
        {
          "output_type": "execute_result",
          "data": {
            "text/plain": [
              "0.9746553122465531"
            ]
          },
          "metadata": {
            "tags": []
          },
          "execution_count": 162
        }
      ]
    },
    {
      "cell_type": "code",
      "metadata": {
        "id": "i7-BwauUCG5j",
        "colab_type": "code",
        "colab": {}
      },
      "source": [
        "y_pred = rfc_model.best_estimator_.predict(X_test)"
      ],
      "execution_count": null,
      "outputs": []
    },
    {
      "cell_type": "code",
      "metadata": {
        "id": "OpJ8y3ZVCNg4",
        "colab_type": "code",
        "colab": {}
      },
      "source": [
        "cost_per_record = (y_test_array*((y_pred*0) + ((1-y_pred)*fn_cost_array_test))) + ((1-y_test_array)*((y_pred*fp_cost_array_test) + ((1-y_pred)*0)))"
      ],
      "execution_count": null,
      "outputs": []
    },
    {
      "cell_type": "code",
      "metadata": {
        "id": "ux_4qXCYCQ8V",
        "colab_type": "code",
        "colab": {
          "base_uri": "https://localhost:8080/",
          "height": 35
        },
        "outputId": "4ba7a958-41a2-4c38-f452-205a28054a48"
      },
      "source": [
        "(1*sum(list(cost_per_record)))"
      ],
      "execution_count": null,
      "outputs": [
        {
          "output_type": "execute_result",
          "data": {
            "text/plain": [
              "14429.901168168"
            ]
          },
          "metadata": {
            "tags": []
          },
          "execution_count": 165
        }
      ]
    },
    {
      "cell_type": "code",
      "metadata": {
        "id": "5FVU47T__QDY",
        "colab_type": "code",
        "colab": {
          "base_uri": "https://localhost:8080/",
          "height": 177
        },
        "outputId": "e4c2f9b9-8341-4cc2-822d-6dba6f66ca07"
      },
      "source": [
        "print(classification_report(y_test, y_pred))"
      ],
      "execution_count": null,
      "outputs": [
        {
          "output_type": "stream",
          "text": [
            "              precision    recall  f1-score   support\n",
            "\n",
            "           0       0.94      0.92      0.93      2055\n",
            "           1       0.64      0.70      0.67       411\n",
            "\n",
            "    accuracy                           0.88      2466\n",
            "   macro avg       0.79      0.81      0.80      2466\n",
            "weighted avg       0.89      0.88      0.89      2466\n",
            "\n"
          ],
          "name": "stdout"
        }
      ]
    },
    {
      "cell_type": "code",
      "metadata": {
        "id": "PKUbWBsReK8U",
        "colab_type": "code",
        "colab": {}
      },
      "source": [
        ""
      ],
      "execution_count": null,
      "outputs": []
    }
  ]
}